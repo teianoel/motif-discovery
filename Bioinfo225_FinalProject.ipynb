{
 "cells": [
  {
   "cell_type": "code",
   "execution_count": 1,
   "metadata": {
    "collapsed": true
   },
   "outputs": [],
   "source": [
    "import numpy as np\n",
    "import math\n",
    "import csv\n",
    "from sklearn import linear_model\n",
    "from sklearn.svm import SVR\n",
    "from sklearn.model_selection import train_test_split\n",
    "from sklearn.metrics import mean_squared_error, r2_score\n",
    "import matplotlib.pyplot as plt\n",
    "import statistics as stat\n",
    "import csv"
   ]
  },
  {
   "cell_type": "markdown",
   "metadata": {},
   "source": [
    "## Read in challenge data"
   ]
  },
  {
   "cell_type": "code",
   "execution_count": 2,
   "metadata": {
    "collapsed": true
   },
   "outputs": [],
   "source": [
    "with open(\"/Users/teianoel/Desktop/Bioinfo_225/Final_Project/Data/DREAM6_ExPred_Promoters.fasta\",\"r\") as file:\n",
    "    # parse training promoter data\n",
    "    training_seq_IDs=[]\n",
    "    training_seqs=[]\n",
    "    \n",
    "    while True:\n",
    "        seq_ID=file.readline()\n",
    "        seq=file.readline()\n",
    "        \n",
    "        if(seq_ID == \"\" or seq == \"\"):\n",
    "            break\n",
    "        \n",
    "        training_seq_IDs.append(seq_ID[1:-1])\n",
    "        training_seqs.append(seq[:-1])"
   ]
  },
  {
   "cell_type": "code",
   "execution_count": 3,
   "metadata": {},
   "outputs": [
    {
     "name": "stdout",
     "output_type": "stream",
     "text": [
      "['RPL10', 'RPL11B', 'RPL12A', 'RPL13A', 'RPL13B', 'RPL14A', 'RPL14B', 'RPL15A', 'RPL15B', 'RPL16B', 'RPL17A', 'RPL18A', 'RPL18B', 'RPL19B', 'RPL1A', 'RPL1B', 'RPL20A', 'RPL20B', 'RPL22A', 'RPL22B', 'RPL23A', 'RPL23B', 'RPL25', 'RPL27A', 'RPL27B', 'RPL2A', 'RPL3', 'RPL30', 'RPL31A', 'RPL33A', 'RPL33B', 'RPL34B', 'RPL35A', 'RPL36A', 'RPL36B', 'RPL38', 'RPL39', 'RPL40A', 'RPL40B', 'RPL41A', 'RPL41B', 'RPL42B', 'RPL43A', 'RPL43B', 'RPL4A', 'RPL4B', 'RPL5', 'RPL6B', 'RPL7A', 'RPL7B', 'RPL8A', 'RPL8B', 'RPP0', 'RPP1A', 'RPP1B', 'RPP2A', 'RPS0B', 'RPS10A', 'RPS11A', 'RPS11B', 'RPS12', 'RPS13', 'RPS14A', 'RPS14B', 'RPS16A', 'RPS16B', 'RPS18A', 'RPS18B', 'RPS19A', 'RPS1A', 'RPS1B', 'RPS2', 'RPS20', 'RPS21A', 'RPS21B', 'RPS23A', 'RPS23B', 'RPS24A', 'RPS24B', 'RPS27A', 'RPS27B', 'RPS28B', 'RPS3', 'RPS4A', 'RPS4B', 'RPS6A', 'RPS6B', 'RPS7A', 'RPS7B', 'RPS9A']\n"
     ]
    }
   ],
   "source": [
    "print(training_seq_IDs)"
   ]
  },
  {
   "cell_type": "code",
   "execution_count": 4,
   "metadata": {
    "collapsed": true
   },
   "outputs": [],
   "source": [
    "with open(\"/Users/teianoel/Desktop/Bioinfo_225/Final_Project/Data/DREAM6_ExPred_PromoterActivities.txt\",\"r\") as file:\n",
    "    # parse training promoter activity data\n",
    "    file=csv.reader(file, delimiter=\"\\t\")\n",
    "    training_activities=[]\n",
    "    \n",
    "    for row in file:\n",
    "        training_activities.append(float(row[1]))"
   ]
  },
  {
   "cell_type": "code",
   "execution_count": 5,
   "metadata": {
    "collapsed": true
   },
   "outputs": [],
   "source": [
    "with open(\"/Users/teianoel/Desktop/Bioinfo_225/Final_Project/Data/DREAM6_ExPred_TestSetPromoters.fasta\",\"r\") as file:\n",
    "    # parse test promoter data \n",
    "    test_seq_IDs=[]\n",
    "    test_seqs=[]\n",
    "    \n",
    "    while True:\n",
    "        seq_ID=file.readline()\n",
    "        seq=file.readline()\n",
    "        \n",
    "        if(seq_ID == \"\" or seq == \"\"):\n",
    "            break\n",
    "            \n",
    "        test_seq_IDs.append(seq_ID[1:-1])\n",
    "        test_seqs.append(seq[:-1])"
   ]
  },
  {
   "cell_type": "markdown",
   "metadata": {},
   "source": [
    "## Read in motifs from public databases"
   ]
  },
  {
   "cell_type": "code",
   "execution_count": 6,
   "metadata": {
    "collapsed": true
   },
   "outputs": [],
   "source": [
    "with open(\"/Users/teianoel/Desktop/Bioinfo_225/Final_Project/Data/EPD_data_oneline.fasta\",\"r\") as file:\n",
    "    # parse EPD promoter data\n",
    "    EPD_seq_IDs=[]\n",
    "    EPD_seqs=[]\n",
    "    \n",
    "    #print(file.readline())\n",
    "    #print(file.readline())\n",
    "    \n",
    "    while True:\n",
    "        seq_ID=file.readline()\n",
    "        seq=file.readline()\n",
    "        \n",
    "        if(seq_ID==\"\"  or seq==\"\"):\n",
    "            break\n",
    "        \n",
    "        EPD_seq_IDs.append(seq_ID[1:-1])\n",
    "        EPD_seqs.append(seq[:-1])\n",
    "        \n",
    "        #file.readline()"
   ]
  },
  {
   "cell_type": "code",
   "execution_count": 7,
   "metadata": {
    "collapsed": true
   },
   "outputs": [],
   "source": [
    "with open(\"/Users/teianoel/Desktop/Bioinfo_225/Final_Project/Data/S. Cerevisiae PWMs/PFM/morozov.RAP1\",'r') as file:\n",
    "    # parse Rap1 motif PWM from ScerTF database\n",
    "    ScerTF_Rap1_pwm=[]\n",
    "    \n",
    "    while True:\n",
    "        data=file.readline()\n",
    "        \n",
    "        if(data==\"\"):\n",
    "            break\n",
    "        \n",
    "        data=data.split(\" \")\n",
    "        data=data[2:-1]\n",
    "        \n",
    "        for i in range(0,len(data)):\n",
    "            data[i]=float(data[i])\n",
    "            \n",
    "        ScerTF_Rap1_pwm.append(data)"
   ]
  },
  {
   "cell_type": "code",
   "execution_count": 8,
   "metadata": {
    "collapsed": true
   },
   "outputs": [],
   "source": [
    "with open(\"/Users/teianoel/Desktop/Bioinfo_225/Final_Project/Data/S. Cerevisiae PWMs/PFM/macisaac.ABF1\",'r') as file:\n",
    "    # parse Abf1 motif PWM from ScerTF database\n",
    "    ScerTF_Abf1_pwm=[]\n",
    "    \n",
    "    while True:\n",
    "        data=file.readline()\n",
    "        \n",
    "        if(data==\"\"):\n",
    "            break\n",
    "        \n",
    "        data=data.split(\" \")\n",
    "        data=data[2:-1]\n",
    "        \n",
    "        for i in range(0,len(data)):\n",
    "            data[i]=float(data[i])\n",
    "            \n",
    "        ScerTF_Abf1_pwm.append(data)"
   ]
  },
  {
   "cell_type": "code",
   "execution_count": 9,
   "metadata": {
    "collapsed": true
   },
   "outputs": [],
   "source": [
    "with open(\"/Users/teianoel/Desktop/Bioinfo_225/Final_Project/Data/S. Cerevisiae PWMs/PFM/zhu.FHL1\",'r') as file:\n",
    "    # parse Fhl1 motif PWM from ScerTF database\n",
    "    ScerTF_Fhl1_pwm=[]\n",
    "    \n",
    "    while True:\n",
    "        data=file.readline()\n",
    "        \n",
    "        if(data==\"\"):\n",
    "            break\n",
    "        \n",
    "        data=data.split(\" \")\n",
    "        data=data[2:-1]\n",
    "        \n",
    "        for i in range(0,len(data)):\n",
    "            data[i]=float(data[i])\n",
    "            \n",
    "        ScerTF_Fhl1_pwm.append(data)"
   ]
  },
  {
   "cell_type": "code",
   "execution_count": 10,
   "metadata": {
    "collapsed": true
   },
   "outputs": [],
   "source": [
    "with open(\"/Users/teianoel/Desktop/Bioinfo_225/Final_Project/Data/S. Cerevisiae PWMs/PFM/zhu.SFP1\",'r') as file:\n",
    "    # parse Sfp1 motif PWM from ScerTF database\n",
    "    ScerTF_Sfp1_pwm=[]\n",
    "    \n",
    "    while True:\n",
    "        data=file.readline()\n",
    "        \n",
    "        if(data==\"\"):\n",
    "            break\n",
    "        \n",
    "        data=data.split(\" \")\n",
    "        data=data[2:-1]\n",
    "        \n",
    "        for i in range(0,len(data)):\n",
    "            data[i]=float(data[i])\n",
    "            \n",
    "        ScerTF_Sfp1_pwm.append(data)"
   ]
  },
  {
   "cell_type": "code",
   "execution_count": 11,
   "metadata": {
    "collapsed": true
   },
   "outputs": [],
   "source": [
    "with open(\"/Users/teianoel/Desktop/Bioinfo_225/Final_Project/Data/S. Cerevisiae PWMs/PFM/badis.REB1\",'r') as file:\n",
    "    # parse Reb1 motif PWM from ScerTF database\n",
    "    ScerTF_Reb1_pwm=[]\n",
    "    \n",
    "    while True:\n",
    "        data=file.readline()\n",
    "        \n",
    "        if(data==\"\"):\n",
    "            break\n",
    "        \n",
    "        data=data.split(\" \")\n",
    "        data=data[2:-1]\n",
    "        \n",
    "        for i in range(0,len(data)):\n",
    "            data[i]=float(data[i])\n",
    "            \n",
    "        ScerTF_Reb1_pwm.append(data)"
   ]
  },
  {
   "cell_type": "markdown",
   "metadata": {},
   "source": [
    "## Read in motifs from motif-finding algorithms"
   ]
  },
  {
   "cell_type": "code",
   "execution_count": 12,
   "metadata": {
    "collapsed": true
   },
   "outputs": [],
   "source": [
    "with open(\"/Users/teianoel/Desktop/Bioinfo_225/Final_Project/BioProspector/out/motif-1.txt\",\"r\") as file:\n",
    "    # parse top motif PWM from BioProspector calc from DREAM test promoters\n",
    "    BioProsp_motif1_pwm=[]\n",
    "    \n",
    "    while True:\n",
    "        data=file.readline()\n",
    "        \n",
    "        if(data==\"\"):\n",
    "            break\n",
    "        \n",
    "        data=data.split(\" \")\n",
    "        \n",
    "        for i in range(0,len(data)):\n",
    "            data[i]=float(data[i])/100\n",
    "            \n",
    "        BioProsp_motif1_pwm.append(data)\n",
    "    \n",
    "    BioProsp_motif1_pwm=np.array(BioProsp_motif1_pwm)\n",
    "    BioProsp_motif1_pwm=BioProsp_motif1_pwm.T\n",
    "    BioProsp_motif1_pwm=BioProsp_motif1_pwm.tolist()"
   ]
  },
  {
   "cell_type": "code",
   "execution_count": 13,
   "metadata": {
    "collapsed": true
   },
   "outputs": [],
   "source": [
    "with open(\"/Users/teianoel/Desktop/Bioinfo_225/Final_Project/BioProspector/out/motif-2.txt\",\"r\") as file:\n",
    "    # parse top motif PWM from BioProspector calc from DREAM test promoters\n",
    "    BioProsp_motif2_pwm=[]\n",
    "    \n",
    "    while True:\n",
    "        data=file.readline()\n",
    "        \n",
    "        if(data==\"\"):\n",
    "            break\n",
    "        \n",
    "        data=data.split(\" \")\n",
    "        \n",
    "        for i in range(0,len(data)):\n",
    "            data[i]=float(data[i])/100\n",
    "            \n",
    "        BioProsp_motif2_pwm.append(data)\n",
    "    \n",
    "    BioProsp_motif2_pwm=np.array(BioProsp_motif2_pwm)\n",
    "    BioProsp_motif2_pwm=BioProsp_motif2_pwm.T\n",
    "    BioProsp_motif2_pwm=BioProsp_motif2_pwm.tolist()"
   ]
  },
  {
   "cell_type": "code",
   "execution_count": 14,
   "metadata": {
    "collapsed": true
   },
   "outputs": [],
   "source": [
    "with open(\"/Users/teianoel/Desktop/Bioinfo_225/Final_Project/BioProspector/out/motif-3.txt\",\"r\") as file:\n",
    "    # parse top motif PWM from BioProspector calc from DREAM test promoters\n",
    "    BioProsp_motif3_pwm=[]\n",
    "    \n",
    "    while True:\n",
    "        data=file.readline()\n",
    "        \n",
    "        if(data==\"\"):\n",
    "            break\n",
    "        \n",
    "        data=data.split(\" \")\n",
    "        \n",
    "        for i in range(0,len(data)):\n",
    "            data[i]=float(data[i])/100\n",
    "            \n",
    "        BioProsp_motif3_pwm.append(data)\n",
    "    \n",
    "    BioProsp_motif3_pwm=np.array(BioProsp_motif3_pwm)\n",
    "    BioProsp_motif3_pwm=BioProsp_motif3_pwm.T\n",
    "    BioProsp_motif3_pwm=BioProsp_motif3_pwm.tolist()"
   ]
  },
  {
   "cell_type": "code",
   "execution_count": 15,
   "metadata": {
    "collapsed": true
   },
   "outputs": [],
   "source": [
    "with open(\"/Users/teianoel/Desktop/Bioinfo_225/Final_Project/BioProspector/out/motif-4.txt\",\"r\") as file:\n",
    "    # parse top motif PWM from BioProspector calc from DREAM test promoters\n",
    "    BioProsp_motif4_pwm=[]\n",
    "    \n",
    "    while True:\n",
    "        data=file.readline()\n",
    "        \n",
    "        if(data==\"\"):\n",
    "            break\n",
    "        \n",
    "        data=data.split(\" \")\n",
    "        \n",
    "        for i in range(0,len(data)):\n",
    "            data[i]=float(data[i])/100\n",
    "            \n",
    "        BioProsp_motif4_pwm.append(data)\n",
    "    \n",
    "    BioProsp_motif4_pwm=np.array(BioProsp_motif4_pwm)\n",
    "    BioProsp_motif4_pwm=BioProsp_motif4_pwm.T\n",
    "    BioProsp_motif4_pwm=BioProsp_motif4_pwm.tolist()"
   ]
  },
  {
   "cell_type": "code",
   "execution_count": 16,
   "metadata": {
    "collapsed": true
   },
   "outputs": [],
   "source": [
    "with open(\"/Users/teianoel/Desktop/Bioinfo_225/Final_Project/BioProspector/out/motif-5.txt\",\"r\") as file:\n",
    "    # parse top motif PWM from BioProspector calc from DREAM test promoters\n",
    "    BioProsp_motif5_pwm=[]\n",
    "    \n",
    "    while True:\n",
    "        data=file.readline()\n",
    "        \n",
    "        if(data==\"\"):\n",
    "            break\n",
    "        \n",
    "        data=data.split(\" \")\n",
    "        \n",
    "        for i in range(0,len(data)):\n",
    "            data[i]=float(data[i])/100\n",
    "            \n",
    "        BioProsp_motif5_pwm.append(data)\n",
    "    \n",
    "    BioProsp_motif5_pwm=np.array(BioProsp_motif5_pwm)\n",
    "    BioProsp_motif5_pwm=BioProsp_motif5_pwm.T\n",
    "    BioProsp_motif5_pwm=BioProsp_motif5_pwm.tolist()"
   ]
  },
  {
   "cell_type": "code",
   "execution_count": 17,
   "metadata": {
    "collapsed": true
   },
   "outputs": [],
   "source": [
    "with open(\"/Users/teianoel/Desktop/Bioinfo_225/Final_Project/MEME/meme-5.0.4/motif1_DREAM_pwd.txt\",\"r\") as file:\n",
    "    # parse length 15 motif1/5 PWM from MEME calc from DREAM test promoters\n",
    "    MEME_motif1_pwm=[]\n",
    "    \n",
    "    while True:\n",
    "        data=file.readline()\n",
    "        \n",
    "        if(data==\"\"):\n",
    "            break\n",
    "        \n",
    "        data=data.split(\" \")\n",
    "        \n",
    "        data=data[:-1]\n",
    "        \n",
    "        for i in range(0,len(data)):\n",
    "            data[i]=float(data[i])\n",
    "        \n",
    "        MEME_motif1_pwm.append(data)\n",
    "    \n",
    "    MEME_motif1_pwm=np.array(MEME_motif1_pwm)\n",
    "    MEME_motif1_pwm=MEME_motif1_pwm.T\n",
    "    MEME_motif1_pwm=MEME_motif1_pwm.tolist()"
   ]
  },
  {
   "cell_type": "code",
   "execution_count": 18,
   "metadata": {
    "collapsed": true
   },
   "outputs": [],
   "source": [
    "with open(\"/Users/teianoel/Desktop/Bioinfo_225/Final_Project/MEME/meme-5.0.4/motif2_DREAM_pwd.txt\",\"r\") as file:\n",
    "    # parse length 15 motif2/5 PWM from MEME calc from DREAM test promoters\n",
    "    MEME_motif2_pwm=[]\n",
    "    \n",
    "    while True:\n",
    "        data=file.readline()\n",
    "        \n",
    "        if(data==\"\"):\n",
    "            break\n",
    "        \n",
    "        data=data.split(\" \")\n",
    "        \n",
    "        data=data[:-1]\n",
    "        \n",
    "        for i in range(0,len(data)):\n",
    "            data[i]=float(data[i])\n",
    "        \n",
    "        MEME_motif2_pwm.append(data)\n",
    "    \n",
    "    MEME_motif2_pwm=np.array(MEME_motif2_pwm)\n",
    "    MEME_motif2_pwm=MEME_motif2_pwm.T\n",
    "    MEME_motif2_pwm=MEME_motif2_pwm.tolist()"
   ]
  },
  {
   "cell_type": "code",
   "execution_count": 19,
   "metadata": {
    "collapsed": true
   },
   "outputs": [],
   "source": [
    "with open(\"/Users/teianoel/Desktop/Bioinfo_225/Final_Project/MEME/meme-5.0.4/motif3_DREAM_pwd.txt\",\"r\") as file:\n",
    "    # parse length 15 motif3/5 PWM from MEME calc from DREAM test promoters\n",
    "    MEME_motif3_pwm=[]\n",
    "    \n",
    "    while True:\n",
    "        data=file.readline()\n",
    "        \n",
    "        if(data==\"\"):\n",
    "            break\n",
    "        \n",
    "        data=data.split(\" \")\n",
    "        \n",
    "        data=data[:-1]\n",
    "        \n",
    "        for i in range(0,len(data)):\n",
    "            data[i]=float(data[i])\n",
    "        \n",
    "        MEME_motif3_pwm.append(data)\n",
    "    \n",
    "    MEME_motif3_pwm=np.array(MEME_motif3_pwm)\n",
    "    MEME_motif3_pwm=MEME_motif3_pwm.T\n",
    "    MEME_motif3_pwm=MEME_motif3_pwm.tolist()"
   ]
  },
  {
   "cell_type": "code",
   "execution_count": 20,
   "metadata": {
    "collapsed": true
   },
   "outputs": [],
   "source": [
    "with open(\"/Users/teianoel/Desktop/Bioinfo_225/Final_Project/MEME/meme-5.0.4/motif4_DREAM_pwd.txt\",\"r\") as file:\n",
    "    # parse length 15 motif4/5 PWM from MEME calc from DREAM test promoters\n",
    "    MEME_motif4_pwm=[]\n",
    "    \n",
    "    while True:\n",
    "        data=file.readline()\n",
    "        \n",
    "        if(data==\"\"):\n",
    "            break\n",
    "        \n",
    "        data=data.split(\" \")\n",
    "        \n",
    "        data=data[:-1]\n",
    "        \n",
    "        for i in range(0,len(data)):\n",
    "            data[i]=float(data[i])\n",
    "        \n",
    "        MEME_motif4_pwm.append(data)\n",
    "    \n",
    "    MEME_motif4_pwm=np.array(MEME_motif4_pwm)\n",
    "    MEME_motif4_pwm=MEME_motif4_pwm.T\n",
    "    MEME_motif4_pwm=MEME_motif4_pwm.tolist()"
   ]
  },
  {
   "cell_type": "code",
   "execution_count": 21,
   "metadata": {
    "collapsed": true
   },
   "outputs": [],
   "source": [
    "with open(\"/Users/teianoel/Desktop/Bioinfo_225/Final_Project/MEME/meme-5.0.4/motif5_DREAM_pwd.txt\",\"r\") as file:\n",
    "    # parse length 15 motif5/5 PWM from MEME calc from DREAM test promoters\n",
    "    MEME_motif5_pwm=[]\n",
    "    \n",
    "    while True:\n",
    "        data=file.readline()\n",
    "        \n",
    "        if(data==\"\"):\n",
    "            break\n",
    "        \n",
    "        data=data.split(\" \")\n",
    "        \n",
    "        data=data[:-1]\n",
    "        \n",
    "        for i in range(0,len(data)):\n",
    "            data[i]=float(data[i])\n",
    "        \n",
    "        MEME_motif5_pwm.append(data)\n",
    "    \n",
    "    MEME_motif5_pwm=np.array(MEME_motif5_pwm)\n",
    "    MEME_motif5_pwm=MEME_motif5_pwm.T\n",
    "    MEME_motif5_pwm=MEME_motif5_pwm.tolist()"
   ]
  },
  {
   "cell_type": "code",
   "execution_count": 22,
   "metadata": {
    "collapsed": true
   },
   "outputs": [],
   "source": [
    "with open(\"/Users/teianoel/Desktop/Bioinfo_225/Final_Project/MEME/meme-5.0.4/motif1_EPD_pwd.txt\",\"r\") as file:\n",
    "    # parse length 15 motif PWM from MEME calc from EPD promoters\n",
    "    MEME_EPD_motif1_pwm=[]\n",
    "    \n",
    "    while True:\n",
    "        data=file.readline()\n",
    "        \n",
    "        if(data==\"\"):\n",
    "            break\n",
    "        \n",
    "        data=data.split(\" \")\n",
    "        \n",
    "        data=data[:-1]\n",
    "        \n",
    "        for i in range(0,len(data)):\n",
    "            data[i]=float(data[i])\n",
    "        \n",
    "        MEME_EPD_motif1_pwm.append(data)\n",
    "    \n",
    "    MEME_EPD_motif1_pwm=np.array(MEME_EPD_motif1_pwm)\n",
    "    MEME_EPD_motif1_pwm=MEME_EPD_motif1_pwm.T\n",
    "    MEME_EPD_motif1_pwm=MEME_EPD_motif1_pwm.tolist() "
   ]
  },
  {
   "cell_type": "markdown",
   "metadata": {},
   "source": [
    "## Feature generation"
   ]
  },
  {
   "cell_type": "code",
   "execution_count": 23,
   "metadata": {
    "collapsed": true
   },
   "outputs": [],
   "source": [
    "def reverse_complement(seq):\n",
    "    reverse=\"\"\n",
    "    for i in range(0,len(seq)):\n",
    "        if (seq[i]=='A'):\n",
    "            reverse=reverse+'T'\n",
    "        elif (seq[i]=='T'):\n",
    "            reverse=reverse+'A'\n",
    "        elif (seq[i]=='C'):\n",
    "            reverse=reverse+'G'\n",
    "        else:\n",
    "            reverse=reverse+'C'\n",
    "    return(reverse[::-1])"
   ]
  },
  {
   "cell_type": "code",
   "execution_count": 24,
   "metadata": {},
   "outputs": [
    {
     "name": "stdout",
     "output_type": "stream",
     "text": [
      "[[0.3, 0.6, 0.1, 0.0, 0.0, 0.4, 0.7, 0.1, 0.1], [0.4, 0.1, 0.0, 0.0, 0.0, 0.1, 0.1, 0.1, 0.2], [0.2, 0.2, 0.8, 1.0, 0.0, 0.4, 0.1, 0.8, 0.2], [0.1, 0.1, 0.1, 0.0, 1.0, 0.1, 0.1, 0.0, 0.5]]\n"
     ]
    }
   ],
   "source": [
    "pwm_test=[[0.3,0.6,0.1,0.0,0.0,0.4,0.7,0.1,0.1],[0.4,0.1,0.0,0.0,0.0,0.1,0.1,0.1,0.2],[0.2,0.2,0.8,1.0,0.0,0.4,0.1,0.8,0.2],[0.1,0.1,0.1,0.0,1.0,0.1,0.1,0.0,0.5]]\n",
    "print(pwm_test)\n",
    "kmer_test=\"CAGGTAAGT\""
   ]
  },
  {
   "cell_type": "code",
   "execution_count": 25,
   "metadata": {
    "collapsed": true
   },
   "outputs": [],
   "source": [
    "# Takes in a kmer of a dna seq to be scored and pwm of motif\n",
    "# Returns log-odds score of kmer against background prob(assumed uniform dist for nucs)\n",
    "def score_kmer(kmer,pwm):\n",
    "    p_actual = 0\n",
    "    p_background = 0\n",
    "    \n",
    "    for i in range(0,len(kmer)):\n",
    "        if (kmer[i]=='A'):\n",
    "            if (pwm[0][i]!=0):\n",
    "                p_actual=p_actual+math.log2(pwm[0][i])\n",
    "        elif (kmer[i]=='C'):\n",
    "            if (pwm[1][i]!=0):\n",
    "                p_actual=p_actual+math.log2(pwm[1][i])\n",
    "        elif (kmer[i]=='G'):\n",
    "            if (pwm[2][i]!=0):\n",
    "                p_actual=p_actual+math.log2(pwm[2][i])\n",
    "        else:\n",
    "            if (pwm[3][i]!=0):\n",
    "                p_actual=p_actual+math.log2(pwm[3][i])\n",
    "        p_background=p_background+math.log2(0.25)\n",
    "    \n",
    "    log_odds=p_actual-p_background\n",
    "    return(log_odds)           "
   ]
  },
  {
   "cell_type": "code",
   "execution_count": 26,
   "metadata": {},
   "outputs": [
    {
     "name": "stdout",
     "output_type": "stream",
     "text": [
      "12.460748853454586\n"
     ]
    }
   ],
   "source": [
    "score_test=score_kmer(kmer_test,pwm_test)\n",
    "print(score_test)"
   ]
  },
  {
   "cell_type": "code",
   "execution_count": 27,
   "metadata": {
    "collapsed": true
   },
   "outputs": [],
   "source": [
    "# Takes in a dna seq to score, length of motif for scoring, k, and pwm of motif\n",
    "# Returns max log-odds score of all kmers in seq against background prob\n",
    "def score_seq(seq,k,pwm):\n",
    "    scores=[]\n",
    "    \n",
    "    for i in range(0,len(seq)-k+1):\n",
    "        kmer=seq[i:i+k]\n",
    "        scores.append(score_kmer(kmer,pwm))\n",
    "    \n",
    "    max_score=max(scores)\n",
    "    return(max_score)"
   ]
  },
  {
   "cell_type": "code",
   "execution_count": 28,
   "metadata": {
    "collapsed": true
   },
   "outputs": [],
   "source": [
    "# Takes in a dna seq to score, length of motif for scoring, k, and pwm of motif\n",
    "# Returns position of max log-odds score of all kmers in seq against background prob\n",
    "def max_pos(seq,k,pwm):\n",
    "    scores=[]\n",
    "    \n",
    "    for i in range(0,len(seq)-k+1):\n",
    "        kmer=seq[i:i+k]\n",
    "        scores.append(score_kmer(kmer,pwm))\n",
    "    \n",
    "    max_score=max(scores)\n",
    "    scores=np.array(scores)\n",
    "    max_pos=np.where(scores==max_score)[0][0]\n",
    "    return(max_pos)"
   ]
  },
  {
   "cell_type": "code",
   "execution_count": 29,
   "metadata": {
    "collapsed": true
   },
   "outputs": [],
   "source": [
    "def countPairs(codon,seq):\n",
    "    count=0\n",
    "    codon_seq=[seq[i:i+2] for i in range(0,len(seq),2)]\n",
    "    for c in codon_seq:\n",
    "        if c==codon:\n",
    "            count+=1\n",
    "    return(count)"
   ]
  },
  {
   "cell_type": "code",
   "execution_count": 30,
   "metadata": {
    "collapsed": true
   },
   "outputs": [],
   "source": [
    "# Feature: scores of training promoters based on ScerTF Rap1 motif pwm\n",
    "ScerTF_Rap1_scores=[]\n",
    "k_ScerTF_Rap1=len(ScerTF_Rap1_pwm[0])\n",
    "for promoter in training_seqs:\n",
    "    score=score_seq(promoter,k_ScerTF_Rap1,ScerTF_Rap1_pwm)\n",
    "    ScerTF_Rap1_scores.append(score)"
   ]
  },
  {
   "cell_type": "code",
   "execution_count": 31,
   "metadata": {
    "collapsed": true
   },
   "outputs": [],
   "source": [
    "# Feature: scores of training promoters based on ScerTF Abf1 motif pwm\n",
    "ScerTF_Abf1_scores=[]\n",
    "k_ScerTF_Abf1=len(ScerTF_Abf1_pwm[0])\n",
    "for promoter in training_seqs:\n",
    "    score=score_seq(promoter,k_ScerTF_Abf1,ScerTF_Abf1_pwm)\n",
    "    ScerTF_Abf1_scores.append(score)"
   ]
  },
  {
   "cell_type": "code",
   "execution_count": 32,
   "metadata": {
    "collapsed": true
   },
   "outputs": [],
   "source": [
    "# Feature: scores of training promoters based on ScerTF Fhl1 motif pwm\n",
    "ScerTF_Fhl1_scores=[]\n",
    "k_ScerTF_Fhl1=len(ScerTF_Fhl1_pwm[0])\n",
    "for promoter in training_seqs:\n",
    "    score=score_seq(promoter,k_ScerTF_Fhl1,ScerTF_Fhl1_pwm)\n",
    "    ScerTF_Fhl1_scores.append(score)"
   ]
  },
  {
   "cell_type": "code",
   "execution_count": 33,
   "metadata": {
    "collapsed": true
   },
   "outputs": [],
   "source": [
    "# Feature: scores of training promoters based on ScerTF Sfp1 motif pwm\n",
    "ScerTF_Sfp1_scores=[]\n",
    "k_ScerTF_Sfp1=len(ScerTF_Sfp1_pwm[0])\n",
    "for promoter in training_seqs:\n",
    "    score=score_seq(promoter,k_ScerTF_Sfp1,ScerTF_Sfp1_pwm)\n",
    "    ScerTF_Sfp1_scores.append(score)"
   ]
  },
  {
   "cell_type": "code",
   "execution_count": 34,
   "metadata": {
    "collapsed": true
   },
   "outputs": [],
   "source": [
    "# Feature: scores of training promoters based on ScerTF Reb1 motif pwm\n",
    "ScerTF_Reb1_scores=[]\n",
    "k_ScerTF_Reb1=len(ScerTF_Reb1_pwm[0])\n",
    "for promoter in training_seqs:\n",
    "    score=score_seq(promoter,k_ScerTF_Reb1,ScerTF_Reb1_pwm)\n",
    "    ScerTF_Reb1_scores.append(score)"
   ]
  },
  {
   "cell_type": "code",
   "execution_count": 35,
   "metadata": {
    "collapsed": true
   },
   "outputs": [],
   "source": [
    "# Feature: scores of training promoters based on BioProspector motif1 pwm\n",
    "BioProsp_motif1_scores=[]\n",
    "k_BioProsp_motif1=len(BioProsp_motif1_pwm[0])\n",
    "for promoter in training_seqs:\n",
    "    score=score_seq(promoter,k_BioProsp_motif1,BioProsp_motif1_pwm)\n",
    "    BioProsp_motif1_scores.append(score)"
   ]
  },
  {
   "cell_type": "code",
   "execution_count": 36,
   "metadata": {
    "collapsed": true
   },
   "outputs": [],
   "source": [
    "# Feature: scores of training promoters based on BioProspector motif2 pwm\n",
    "BioProsp_motif2_scores=[]\n",
    "k_BioProsp_motif2=len(BioProsp_motif2_pwm[0])\n",
    "for promoter in training_seqs:\n",
    "    score=score_seq(promoter,k_BioProsp_motif2,BioProsp_motif2_pwm)\n",
    "    BioProsp_motif2_scores.append(score)"
   ]
  },
  {
   "cell_type": "code",
   "execution_count": 37,
   "metadata": {
    "collapsed": true
   },
   "outputs": [],
   "source": [
    "# Feature: scores of training promoters based on BioProspector motif3 pwm\n",
    "BioProsp_motif3_scores=[]\n",
    "k_BioProsp_motif3=len(BioProsp_motif3_pwm[0])\n",
    "for promoter in training_seqs:\n",
    "    score=score_seq(promoter,k_BioProsp_motif3,BioProsp_motif3_pwm)\n",
    "    BioProsp_motif3_scores.append(score)"
   ]
  },
  {
   "cell_type": "code",
   "execution_count": 38,
   "metadata": {
    "collapsed": true
   },
   "outputs": [],
   "source": [
    "# Feature: scores of training promoters based on BioProspector motif4 pwm\n",
    "BioProsp_motif4_scores=[]\n",
    "k_BioProsp_motif4=len(BioProsp_motif4_pwm[0])\n",
    "for promoter in training_seqs:\n",
    "    score=score_seq(promoter,k_BioProsp_motif4,BioProsp_motif4_pwm)\n",
    "    BioProsp_motif4_scores.append(score)"
   ]
  },
  {
   "cell_type": "code",
   "execution_count": 39,
   "metadata": {
    "collapsed": true
   },
   "outputs": [],
   "source": [
    "# Feature: scores of training promoters based on BioProspector motif5 pwm\n",
    "BioProsp_motif5_scores=[]\n",
    "k_BioProsp_motif5=len(BioProsp_motif5_pwm[0])\n",
    "for promoter in training_seqs:\n",
    "    score=score_seq(promoter,k_BioProsp_motif5,BioProsp_motif5_pwm)\n",
    "    BioProsp_motif5_scores.append(score)"
   ]
  },
  {
   "cell_type": "code",
   "execution_count": 40,
   "metadata": {
    "collapsed": true
   },
   "outputs": [],
   "source": [
    "# Feature: scores of training promoters based on MEME motif1 pwm derived from DREAM !!training!! promoters\n",
    "MEME_motif1_scores=[]\n",
    "k_MEME_motif1=len(MEME_motif1_pwm[0])\n",
    "for promoter in training_seqs:\n",
    "    score=score_seq(promoter,k_MEME_motif1,MEME_motif1_pwm)\n",
    "    MEME_motif1_scores.append(score)"
   ]
  },
  {
   "cell_type": "code",
   "execution_count": 41,
   "metadata": {
    "collapsed": true
   },
   "outputs": [],
   "source": [
    "# Feature: scores of training promoters based on MEME motif2 pwm derived from DREAM promoters\n",
    "MEME_motif2_scores=[]\n",
    "k_MEME_motif2=len(MEME_motif2_pwm[0])\n",
    "for promoter in training_seqs:\n",
    "    score=score_seq(promoter,k_MEME_motif2,MEME_motif2_pwm)\n",
    "    MEME_motif2_scores.append(score)"
   ]
  },
  {
   "cell_type": "code",
   "execution_count": 42,
   "metadata": {
    "collapsed": true
   },
   "outputs": [],
   "source": [
    "# Feature: scores of training promoters based on MEME motif3 pwm derived from DREAM promoters\n",
    "MEME_motif3_scores=[]\n",
    "k_MEME_motif3=len(MEME_motif3_pwm[0])\n",
    "for promoter in training_seqs:\n",
    "    score=score_seq(promoter,k_MEME_motif3,MEME_motif3_pwm)\n",
    "    MEME_motif3_scores.append(score)"
   ]
  },
  {
   "cell_type": "code",
   "execution_count": 43,
   "metadata": {
    "collapsed": true
   },
   "outputs": [],
   "source": [
    "# Feature: scores of training promoters based on MEME motif4 pwm derived from DREAM promoters\n",
    "MEME_motif4_scores=[]\n",
    "k_MEME_motif4=len(MEME_motif4_pwm[0])\n",
    "for promoter in training_seqs:\n",
    "    score=score_seq(promoter,k_MEME_motif4,MEME_motif4_pwm)\n",
    "    MEME_motif4_scores.append(score)"
   ]
  },
  {
   "cell_type": "code",
   "execution_count": 44,
   "metadata": {
    "collapsed": true
   },
   "outputs": [],
   "source": [
    "# Feature: scores of training promoters based on MEME motif5 pwm derived from DREAM promoters\n",
    "MEME_motif5_scores=[]\n",
    "k_MEME_motif5=len(MEME_motif5_pwm[0])\n",
    "for promoter in training_seqs:\n",
    "    score=score_seq(promoter,k_MEME_motif5,MEME_motif5_pwm)\n",
    "    MEME_motif5_scores.append(score)"
   ]
  },
  {
   "cell_type": "code",
   "execution_count": 45,
   "metadata": {
    "collapsed": true
   },
   "outputs": [],
   "source": [
    "# Feature: scores of training promoters based on MEME motif1 pwm derived from EPD promoters\n",
    "MEME_EPD_motif1_scores=[]\n",
    "k_MEME_EPD_motif1=len(MEME_EPD_motif1_pwm[0])\n",
    "for promoter in training_seqs:\n",
    "    score=score_seq(promoter,k_MEME_EPD_motif1,MEME_EPD_motif1_pwm)\n",
    "    MEME_EPD_motif1_scores.append(score)"
   ]
  },
  {
   "cell_type": "code",
   "execution_count": 46,
   "metadata": {
    "collapsed": true
   },
   "outputs": [],
   "source": [
    "# Feature: lengths of promoter sequences\n",
    "promoter_lengths=[]\n",
    "for promoter in training_seqs:\n",
    "    length=len(promoter)\n",
    "    promoter_lengths.append(length)"
   ]
  },
  {
   "cell_type": "code",
   "execution_count": 47,
   "metadata": {},
   "outputs": [
    {
     "name": "stdout",
     "output_type": "stream",
     "text": [
      "[0, 0, 1, 1, 1, 1, 0, 0, 2, 2, 3, 0, 0, 2, 0, 0, 1, 4, 0, 0, 0, 1, 1, 1, 0, 3, 0, 2, 1, 2, 1, 1, 0, 0, 1, 0, 2, 1, 0, 0, 0, 1, 0, 0, 0, 0, 0, 1, 0, 0, 0, 0, 0, 0, 0, 4, 1, 1, 3, 0, 0, 0, 0, 0, 1, 1, 1, 1, 0, 0, 1, 0, 0, 0, 0, 1, 1, 6, 1, 0, 1, 0, 0, 2, 2, 1, 0, 2, 0, 1]\n"
     ]
    },
    {
     "data": {
      "text/plain": [
       "(array([77]),)"
      ]
     },
     "execution_count": 47,
     "metadata": {},
     "output_type": "execute_result"
    }
   ],
   "source": [
    "# Feature: number of CpG islands\n",
    "CpG_counts=[]\n",
    "promoter=training_seqs[2]\n",
    "above_50=False\n",
    "\n",
    "for promoter in training_seqs:\n",
    "    CpG_count=0\n",
    "    for i in range(0,len(promoter)-200+1):\n",
    "        k_mer=promoter[i:i+200]\n",
    "        k_mer=list(k_mer)\n",
    "        GC_count=k_mer.count('C')+k_mer.count('G')\n",
    "        GC_freq=GC_count/200\n",
    "        if(GC_freq>0.5 and above_50==False):\n",
    "            above_50=True\n",
    "            CpG_count=CpG_count+1\n",
    "        if(GC_freq<0.5 and above_50==True):\n",
    "            above_50=False\n",
    "    CpG_counts.append(CpG_count)\n",
    "\n",
    "print(CpG_counts)  \n",
    "CpG_counts=np.array(CpG_counts)\n",
    "np.where(CpG_counts==6)"
   ]
  },
  {
   "cell_type": "code",
   "execution_count": 48,
   "metadata": {},
   "outputs": [
    {
     "name": "stdout",
     "output_type": "stream",
     "text": [
      "[0, 0, 26, 0, 5, 14, 0, 0, 48, 0, 14, 0, 0, 0, 0, 0, 0, 16, 0, 0, 0, 0, 0, 0, 0, 11, 0, 0, 1, 9, 0, 0, 0, 0, 40, 0, 14, 0, 0, 0, 0, 41, 0, 0, 0, 0, 0, 6, 0, 0, 0, 0, 0, 0, 0, 26, 46, 17, 15, 0, 0, 0, 0, 0, 5, 0, 0, 0, 0, 0, 0, 0, 0, 0, 0, 0, 0, 0, 21, 0, 0, 0, 0, 3, 0, 18, 0, 6, 0, 56]\n"
     ]
    }
   ],
   "source": [
    "# Feature: number of CpG islands: obs/exp ratio criterion added\n",
    "CpG_counts=[]\n",
    "promoter=training_seqs[2]\n",
    "above=False\n",
    "\n",
    "for promoter in training_seqs:\n",
    "    CpG_count=0\n",
    "    for i in range(0,len(promoter)-200+1):\n",
    "        k_mer=promoter[i:i+200]\n",
    "        k_mer_list=list(k_mer)\n",
    "        GC_count=k_mer_list.count('C')+k_mer_list.count('G')\n",
    "        GC_freq=GC_count/200\n",
    "        obs=countPairs(\"CG\",k_mer)  # should k_mer be list?\n",
    "        exp=(k_mer_list.count('C')*k_mer_list.count('G'))/200\n",
    "        obs2exp=obs/exp\n",
    "        \n",
    "        if(GC_freq>0.5 and obs2exp>0.6 and above==False):\n",
    "            above=True\n",
    "            CpG_count=CpG_count+1\n",
    "        if(GC_freq<0.5 or obs2exp<0.6 and above==True):\n",
    "            above=False\n",
    "            \n",
    "    CpG_counts.append(CpG_count)\n",
    "print(CpG_counts)"
   ]
  },
  {
   "cell_type": "code",
   "execution_count": 49,
   "metadata": {},
   "outputs": [
    {
     "data": {
      "image/png": "[encoded data removed]",
      "text/plain": [
       "<matplotlib.figure.Figure at 0x1a0ba48d30>"
      ]
     },
     "metadata": {},
     "output_type": "display_data"
    },
    {
     "data": {
      "text/plain": [
       "723"
      ]
     },
     "execution_count": 49,
     "metadata": {},
     "output_type": "execute_result"
    }
   ],
   "source": [
    "promoter=training_seqs[77]\n",
    "above_50=False\n",
    "CpG_count=0\n",
    "x=[]\n",
    "for i in range(0,len(promoter)-200+1):\n",
    "    k_mer=promoter[i:i+200]\n",
    "    k_mer=list(k_mer)\n",
    "    GC_count=k_mer.count('C')+k_mer.count('G')\n",
    "    GC_freq=GC_count/200\n",
    "    if(GC_freq>0.5 and above_50==False):\n",
    "        above_50=True\n",
    "        CpG_count=CpG_count+1\n",
    "    if(GC_freq<0.5 and above_50==True):\n",
    "        above_50=False\n",
    "    x.append(GC_freq)\n",
    "\n",
    "\n",
    "plt.plot(x)\n",
    "plt.show()\n",
    "len(promoter)"
   ]
  },
  {
   "cell_type": "code",
   "execution_count": 50,
   "metadata": {
    "collapsed": true
   },
   "outputs": [],
   "source": [
    "# Feature: max GC freq/200 bp\n",
    "GC_max_freqs=[]\n",
    "#CpG_count=0\n",
    "\n",
    "for promoter in training_seqs:\n",
    "    GC_max_freq=-1\n",
    "    for i in range(0,len(promoter)-200+1):\n",
    "        k_mer=promoter[i:i+200]\n",
    "        k_mer=list(k_mer)\n",
    "        GC_count=k_mer.count('C')+k_mer.count('G')\n",
    "        GC_freq=GC_count/200\n",
    "        if(GC_freq>GC_max_freq):\n",
    "            GC_max_freq=GC_freq\n",
    "    GC_max_freqs.append(GC_max_freq) "
   ]
  },
  {
   "cell_type": "code",
   "execution_count": 51,
   "metadata": {
    "collapsed": true
   },
   "outputs": [],
   "source": [
    "# Feature: max obs2exp\n",
    "obs2exp_max=[]\n",
    "\n",
    "for promoter in training_seqs:\n",
    "    max_rat=-1\n",
    "    for i in range(0,len(promoter)-200+1):\n",
    "        k_mer=promoter[i:i+200]\n",
    "        k_mer_list=list(k_mer)\n",
    "        obs=countPairs(\"CG\",k_mer)  # should k_mer be list?\n",
    "        exp=(k_mer_list.count('C')*k_mer_list.count('G'))/200\n",
    "        obs2exp=obs/exp\n",
    "        if(obs2exp>max_rat):\n",
    "            max_rat=obs2exp\n",
    "    obs2exp_max.append(max_rat) "
   ]
  },
  {
   "cell_type": "code",
   "execution_count": 52,
   "metadata": {
    "collapsed": true
   },
   "outputs": [],
   "source": [
    "# Feature: total GC content\n",
    "GC_content=[]\n",
    "\n",
    "for promoter in training_seqs:\n",
    "    GC_count=promoter.count('C')+promoter.count('G')\n",
    "    GC_freq=GC_count/len(promoter)\n",
    "    GC_content.append(GC_freq)"
   ]
  },
  {
   "cell_type": "code",
   "execution_count": 53,
   "metadata": {
    "collapsed": true
   },
   "outputs": [],
   "source": [
    "# Feature: motif positions\n",
    "\n",
    "ScerTF_pwms=[]\n",
    "ScerTF_pwms.append(ScerTF_Rap1_pwm)\n",
    "ScerTF_pwms.append(ScerTF_Abf1_pwm)\n",
    "ScerTF_pwms.append(ScerTF_Fhl1_pwm)\n",
    "ScerTF_pwms.append(ScerTF_Sfp1_pwm)\n",
    "ScerTF_pwms.append(ScerTF_Reb1_pwm)\n",
    "\n",
    "all_motif_pos=[]\n",
    "for promoter in training_seqs:\n",
    "    motif_pos=[]\n",
    "    for pwm in ScerTF_pwms:\n",
    "        k=len(pwm[0])\n",
    "        pos=max_pos(promoter,k,pwm)\n",
    "        motif_pos.append(pos)\n",
    "    all_motif_pos.append(motif_pos)"
   ]
  },
  {
   "cell_type": "code",
   "execution_count": 54,
   "metadata": {
    "collapsed": true
   },
   "outputs": [],
   "source": [
    "# Feature: free energy (calc by nearest neighbors)\n",
    "nuc_free_energies={'AA':-1.00,'TT':-1.00,'AT':-0.88,'TA':-0.58,'CA':-1.45,'GT':-1.44,'CT':-1.28,'GA':-1.30,'CG':-2.17,'GC':-2.24,'GG':-1.84,'CC':-1.84}\n",
    "free_energy_init={'G':0.98,'C':0.98,'A':1.03,'T':1.03}\n",
    "\n",
    "def free_energy(seq):\n",
    "    energy=0\n",
    "    for i in range(0,len(seq)-2+1):\n",
    "        two_mer=seq[i:i+2]\n",
    "        if(two_mer not in nuc_free_energies):\n",
    "            energy=energy+nuc_free_energies[reverse_complement(two_mer)]\n",
    "        else:\n",
    "            energy=energy+nuc_free_energies[two_mer]\n",
    "    terminal=seq[len(seq)-1]\n",
    "    init=seq[0]\n",
    "    energy=energy+free_energy_init[terminal]+free_energy_init[init]\n",
    "    return(energy)\n",
    "\n",
    "free_energies=[]\n",
    "for promoter in training_seqs:\n",
    "    energy=free_energy(promoter)\n",
    "    free_energies.append(energy)\n",
    "    "
   ]
  },
  {
   "cell_type": "markdown",
   "metadata": {},
   "source": [
    "## ML Modeling"
   ]
  },
  {
   "cell_type": "code",
   "execution_count": 55,
   "metadata": {
    "collapsed": true
   },
   "outputs": [],
   "source": [
    "linreg=linear_model.LinearRegression()\n",
    "svr=SVR(kernel = \"rbf\")\n",
    "y_dat=np.array(training_activities)"
   ]
  },
  {
   "cell_type": "code",
   "execution_count": 56,
   "metadata": {},
   "outputs": [
    {
     "data": {
      "image/png": "[encoded data removed]",
      "text/plain": [
       "<matplotlib.figure.Figure at 0x1a0ba48160>"
      ]
     },
     "metadata": {},
     "output_type": "display_data"
    },
    {
     "name": "stdout",
     "output_type": "stream",
     "text": [
      "0.00216705389482\n"
     ]
    }
   ],
   "source": [
    "# free energies vs. activities\n",
    "\n",
    "x_dat=[[free_energies[i]] for i in range(len(free_energies))]\n",
    "x_dat=np.array(x_dat)\n",
    "\n",
    "linreg.fit(x_dat,y_dat)\n",
    "plt.scatter(x_dat,y_dat)\n",
    "plt.show()\n",
    "print(linreg.score(x_dat,y_dat))"
   ]
  },
  {
   "cell_type": "code",
   "execution_count": 57,
   "metadata": {
    "scrolled": true
   },
   "outputs": [
    {
     "data": {
      "image/png": "[encoded data removed]",
      "text/plain": [
       "<matplotlib.figure.Figure at 0x1a13f1d7f0>"
      ]
     },
     "metadata": {},
     "output_type": "display_data"
    },
    {
     "name": "stdout",
     "output_type": "stream",
     "text": [
      "0.0569608664346\n"
     ]
    }
   ],
   "source": [
    "# GC content vs. activities\n",
    "\n",
    "x_dat=[[GC_content[i]] for i in range(len(GC_content))]\n",
    "x_dat=np.array(x_dat)\n",
    "\n",
    "linreg.fit(x_dat,y_dat)\n",
    "plt.scatter(x_dat,y_dat)\n",
    "plt.show()\n",
    "print(linreg.score(x_dat,y_dat))"
   ]
  },
  {
   "cell_type": "code",
   "execution_count": 58,
   "metadata": {},
   "outputs": [
    {
     "name": "stdout",
     "output_type": "stream",
     "text": [
      "0.0604999086623\n",
      "0.738815867974\n",
      "0.752435553048\n"
     ]
    },
    {
     "data": {
      "text/plain": [
       "-0.43211317762536949"
      ]
     },
     "execution_count": 58,
     "metadata": {},
     "output_type": "execute_result"
    }
   ],
   "source": [
    "# GC content (denaturation) and free energy vs. activities\n",
    "x_dat=[]\n",
    "x_dat.append(free_energies)\n",
    "x_dat.append(GC_content)\n",
    "x_dat=np.array(x_dat)\n",
    "x_dat=x_dat.T\n",
    "\n",
    "linreg.fit(x_dat,y_dat)\n",
    "print(linreg.score(x_dat,y_dat))\n",
    "\n",
    "svr.fit(x_dat,y_dat)\n",
    "print(svr.score(x_dat,y_dat))\n",
    "\n",
    "x_train, x_test, y_train, y_test = train_test_split(x_dat, y_dat)\n",
    "svr.fit(x_train,y_train)\n",
    "print(svr.score(x_train,y_train))\n",
    "\n",
    "svr.predict(x_test)\n",
    "svr.score(x_test,y_test)"
   ]
  },
  {
   "cell_type": "code",
   "execution_count": 59,
   "metadata": {},
   "outputs": [
    {
     "data": {
      "image/png": "[encoded data removed]",
      "text/plain": [
       "<matplotlib.figure.Figure at 0x1a1406ee80>"
      ]
     },
     "metadata": {},
     "output_type": "display_data"
    },
    {
     "name": "stdout",
     "output_type": "stream",
     "text": [
      "0.00875783924954\n"
     ]
    }
   ],
   "source": [
    "# MEME EPD motif1 scores vs. activities\n",
    "x_dat=[[MEME_EPD_motif1_scores[i]] for i in range(len(MEME_EPD_motif1_scores))]\n",
    "x_dat=np.array(x_dat)\n",
    "\n",
    "linreg.fit(x_dat,y_dat)\n",
    "plt.scatter(x_dat,y_dat)\n",
    "plt.show()\n",
    "print(linreg.score(x_dat,y_dat))"
   ]
  },
  {
   "cell_type": "code",
   "execution_count": 60,
   "metadata": {
    "scrolled": true
   },
   "outputs": [
    {
     "data": {
      "image/png": "[encoded data removed]",
      "text/plain": [
       "<matplotlib.figure.Figure at 0x1a141c7668>"
      ]
     },
     "metadata": {},
     "output_type": "display_data"
    },
    {
     "name": "stdout",
     "output_type": "stream",
     "text": [
      "0.00138245642983\n"
     ]
    }
   ],
   "source": [
    "# MEME motif1 scores vs. activities\n",
    "x_dat=[[MEME_motif1_scores[i]] for i in range(len(MEME_motif1_scores))]\n",
    "x_dat=np.array(x_dat)\n",
    "\n",
    "\n",
    "linreg.fit(x_dat,y_dat)\n",
    "plt.scatter(x_dat,y_dat)\n",
    "plt.show()\n",
    "print(linreg.score(x_dat,y_dat))"
   ]
  },
  {
   "cell_type": "code",
   "execution_count": 61,
   "metadata": {
    "scrolled": true
   },
   "outputs": [
    {
     "data": {
      "image/png": "[encoded data removed]",
      "text/plain": [
       "<matplotlib.figure.Figure at 0x1a141e65f8>"
      ]
     },
     "metadata": {},
     "output_type": "display_data"
    },
    {
     "name": "stdout",
     "output_type": "stream",
     "text": [
      "0.00428013519051\n"
     ]
    }
   ],
   "source": [
    "# ScerTF Rap1 scores vs. activites\n",
    "x_dat=[[ScerTF_Rap1_scores[i]] for i in range(len(ScerTF_Rap1_scores))]\n",
    "x_dat=np.array(x_dat)\n",
    "\n",
    "linreg.fit(x_dat,y_dat)\n",
    "plt.scatter(x_dat,y_dat)\n",
    "plt.show()\n",
    "print(linreg.score(x_dat,y_dat))"
   ]
  },
  {
   "cell_type": "code",
   "execution_count": 62,
   "metadata": {},
   "outputs": [
    {
     "name": "stdout",
     "output_type": "stream",
     "text": [
      "[ 0.00770995 -0.01161743  0.06200239  0.04925915 -0.0232481 ]\n",
      "0.175189320587\n"
     ]
    }
   ],
   "source": [
    "# all ScerTF RP motif scores vs.activities\n",
    "## lin reg\n",
    "x_dat=[]\n",
    "x_dat.append(ScerTF_Rap1_scores)\n",
    "x_dat.append(ScerTF_Abf1_scores)\n",
    "x_dat.append(ScerTF_Fhl1_scores)\n",
    "x_dat.append(ScerTF_Sfp1_scores)\n",
    "x_dat.append(ScerTF_Reb1_scores)\n",
    "x_dat=np.array(x_dat)\n",
    "x_dat=x_dat.T\n",
    "\n",
    "linreg.fit(x_dat,y_dat)\n",
    "print(linreg.coef_)\n",
    "print(linreg.score(x_dat,y_dat))"
   ]
  },
  {
   "cell_type": "code",
   "execution_count": 72,
   "metadata": {},
   "outputs": [
    {
     "name": "stdout",
     "output_type": "stream",
     "text": [
      "[[  1.52492938e+01  -3.60527171e+00   3.02018931e+00   1.76503557e+01\n",
      "    5.59354853e+00]\n",
      " [  1.43972465e+01   5.11779571e+00   3.75989029e+00   1.34557365e+01\n",
      "    1.26409203e+01]\n",
      " [  1.52112187e+01   2.84818784e+00   4.08094334e+00   1.20622551e+01\n",
      "    1.03189923e+01]\n",
      " [  1.35682914e+01   4.43010482e+00   4.28508406e+00   9.44511899e+00\n",
      "    6.04100751e+00]\n",
      " [  1.80525983e+01   1.04253188e+01   8.38842381e+00   1.15150394e+01\n",
      "    6.19078936e+00]\n",
      " [  1.92382328e+01   8.37131840e+00   5.96189067e+00   1.75396086e+01\n",
      "    6.04100751e+00]\n",
      " [  8.53527008e+00   2.30359477e+00   5.06799589e+00   9.50393728e+00\n",
      "   -5.58905335e-01]\n",
      " [  8.34002891e+00   4.11699300e+00   1.36766857e+01   1.24017196e+01\n",
      "    3.71907941e+00]\n",
      " [  4.52916998e+00   1.15173549e+01   5.48564562e+00   1.01854251e+01\n",
      "    1.51126303e+01]\n",
      " [  1.49781820e+01   6.28159144e+00   4.06644377e+00   1.25133181e+01\n",
      "    3.71907941e+00]\n",
      " [  1.77461172e+01   3.29854612e+00   4.43863927e+00   1.14279698e+01\n",
      "    6.19078936e+00]\n",
      " [  4.38927184e+00   3.58184047e+00   8.51111246e+00   1.32446031e+01\n",
      "    5.78598189e-01]\n",
      " [  7.65975402e+00   1.82906407e+00   7.18483259e+00   1.55226001e+01\n",
      "    1.32381612e+01]\n",
      " [  1.12071490e+01  -7.43056591e-01   3.02018931e+00   1.48022958e+01\n",
      "   -5.58905335e-01]\n",
      " [ -1.28868984e+00   2.03076410e+00   6.38837187e+00   1.27244992e+01\n",
      "   -4.09123481e-01]\n",
      " [  1.53153695e+01   4.45724315e+00   1.32122459e+01   1.04681594e+01\n",
      "    6.19078936e+00]\n",
      " [  1.64414896e+01   6.30980506e+00   4.92184828e+00   1.15150394e+01\n",
      "    6.04100751e+00]\n",
      " [  1.60336775e+01   2.48364552e+00   8.13907899e+00   1.01848971e+01\n",
      "    4.31632024e+00]\n",
      " [  1.85233772e+01  -3.07358029e+00   6.92110441e+00   1.55989115e+01\n",
      "    5.59354853e+00]\n",
      " [  1.76907841e+01  -3.31621714e-01   4.00568974e+00   1.12240909e+01\n",
      "    1.86396942e-02]\n",
      " [  1.36695572e+01   3.70071302e+00   3.54125000e+00   7.56731520e+00\n",
      "    7.17851103e+00]\n",
      " [  1.73136766e+01  -1.89938484e+00   5.29457551e+00   1.33658295e+01\n",
      "    5.59354853e+00]\n",
      " [  5.57872170e-01   1.02248953e+00   1.20466353e+01   1.03203563e+01\n",
      "    1.91280461e+00]\n",
      " [  1.66137246e+01   1.03996848e+01   1.20466353e+01   1.02652840e+01\n",
      "    4.31632024e+00]\n",
      " [  1.35544745e+01   7.00054656e+00   3.60200404e+00   6.71312043e+00\n",
      "    1.19039548e+01]\n",
      " [  1.60336775e+01   5.30601940e+00   7.83373432e+00   6.86969490e+00\n",
      "    5.59354853e+00]\n",
      " [  2.70441982e+00   1.53914791e+01   1.20466353e+01   1.75396086e+01\n",
      "    8.51271746e+00]\n",
      " [  9.25079183e-01   7.79211739e+00   7.18483259e+00   1.15558697e+01\n",
      "    1.31556378e+00]\n",
      " [  1.40844929e+01   1.84122722e-01   4.93843170e+00   9.66708048e+00\n",
      "    5.03359004e+00]\n",
      " [  1.54857761e+01   2.11451527e+00   5.44672245e+00   1.24170706e+01\n",
      "    7.35551813e+00]\n",
      " [  1.03558120e+01  -1.83231736e+00   3.02018931e+00   1.33329977e+01\n",
      "    6.04100751e+00]\n",
      " [  6.95950441e+00   5.16793456e+00   2.39510239e+00   5.96992203e+00\n",
      "    6.04100751e+00]\n",
      " [  1.42379982e+01   7.20961469e+00   9.13907899e+00   9.25604861e+00\n",
      "    6.19078936e+00]\n",
      " [  1.88934133e+01  -7.70436697e-01   2.61650361e+00   6.94335590e+00\n",
      "    5.59354853e+00]\n",
      " [  1.69518005e+01  -2.20619905e+00   1.20466353e+01   4.58536488e+00\n",
      "    5.59354853e+00]\n",
      " [  1.40472696e+01   8.51955726e-01   7.18483259e+00   9.09417882e+00\n",
      "    7.55605288e-01]\n",
      " [ -8.06035564e-01  -7.35949506e-01   9.15566242e+00   8.49499460e+00\n",
      "    3.71907941e+00]\n",
      " [  1.77461172e+01  -2.50244642e+00   4.22433003e+00   8.70069747e+00\n",
      "    3.71907941e+00]\n",
      " [  1.13242202e+01   3.63946222e+00   8.99501523e+00   1.06150973e+01\n",
      "    9.22998725e+00]\n",
      " [  1.55017613e+01  -1.40450192e+00   4.82661428e+00   1.05243757e+01\n",
      "    1.19039548e+01]\n",
      " [  1.93790957e+01   2.57164409e+00   5.00462246e+00   8.42557059e+00\n",
      "    1.09162331e+01]\n",
      " [  2.05887963e+01  -1.07245305e+00   3.37633312e+00   8.22822795e+00\n",
      "    4.31632024e+00]\n",
      " [  1.24726904e+01   4.66712496e+00   7.11569601e+00   1.40634498e+01\n",
      "    1.31556378e+00]\n",
      " [  1.67722864e+01   8.15073134e+00   5.04303674e+00   9.75485647e+00\n",
      "    6.63824834e+00]\n",
      " [ -8.78214774e-01   1.49588191e+01   1.20466353e+01   1.75357545e+01\n",
      "    3.71907941e+00]\n",
      " [  5.42657560e+00   1.38470396e+01   1.32122459e+01   1.53202920e+01\n",
      "    1.03189923e+01]\n",
      " [  1.58359569e+01  -2.63599157e+00   5.43863927e+00   1.12044455e+01\n",
      "   -5.58905335e-01]\n",
      " [  1.52158474e+01   1.49652406e+01   7.07677284e+00   1.08071100e+01\n",
      "    7.55605288e-01]\n",
      " [  1.62236883e+01   4.16365137e+00   7.48778136e+00   9.96893219e+00\n",
      "    6.04100751e+00]\n",
      " [  1.40907653e+01   6.55347773e+00   5.29105402e+00   7.97125483e+00\n",
      "    3.71907941e+00]\n",
      " [  1.54474633e+01   2.73833217e+00   1.36766857e+01   8.80761246e+00\n",
      "    1.03189923e+01]\n",
      " [  1.44341942e+01   1.35665730e+01   6.30321960e+00   7.28458091e+00\n",
      "    6.63824834e+00]\n",
      " [  1.47255363e+01  -1.76311969e+00   4.86795004e+00   1.40673039e+01\n",
      "    5.30404191e+00]\n",
      " [  1.36303247e+00   1.03216123e+01   8.10119644e+00   1.20947228e+01\n",
      "    5.59354853e+00]\n",
      " [  1.86642402e+01   4.33074284e+00   9.62010216e+00   1.20502954e+01\n",
      "    5.78598189e-01]\n",
      " [  1.04288899e+01   3.34108785e+00   4.70392564e+00   1.10993471e+01\n",
      "    6.63824834e+00]\n",
      " [  1.65434880e+01   3.18305616e+00   2.63353631e+00   1.35367207e+01\n",
      "    1.03189923e+01]\n",
      " [  1.34220237e+01   3.86524995e+00   4.33184028e+00   8.55128459e+00\n",
      "    5.59354853e+00]\n",
      " [  1.22635114e+01   3.57622570e+00   7.13752687e+00   1.06175723e+01\n",
      "    6.19078936e+00]\n",
      " [  1.23930889e+01   3.65088207e+00   4.11374949e+00   1.06738623e+01\n",
      "    6.63824834e+00]\n",
      " [  1.61280422e+01   1.82960768e+00   4.16371752e+00   1.13053278e+01\n",
      "    1.09162331e+01]\n",
      " [  1.30839362e+01   1.88962663e+00   7.13752687e+00   1.59962470e+01\n",
      "    7.55605288e-01]\n",
      " [  1.31838747e+01   4.03611717e+00   9.62010216e+00   1.12565450e+01\n",
      "    1.43756647e+01]\n",
      " [  1.31758304e+01  -5.13716371e-01   5.48086751e+00   1.16249301e+01\n",
      "    1.31556378e+00]\n",
      " [  1.80525983e+01   3.25813473e+00   4.63996258e+00   1.24681594e+01\n",
      "    5.30404191e+00]\n",
      " [  1.66606892e+01  -9.16876317e-01   4.13329460e+00   1.00941788e+01\n",
      "    6.04100751e+00]\n",
      " [  1.77461172e+01   1.78131462e+00   8.31983673e+00   1.55226001e+01\n",
      "    7.77575186e+00]\n",
      " [  1.85233772e+01   3.36587162e+00   7.07677284e+00   8.07463043e+00\n",
      "    5.90128274e+00]\n",
      " [  1.61110475e+01   1.59988272e+00   6.30321960e+00   9.61079049e+00\n",
      "    1.89310881e+00]\n",
      " [  1.29947406e+01   3.78381003e-01   4.00568974e+00   7.65603511e+00\n",
      "   -5.58905335e-01]\n",
      " [  1.90090597e+01   6.11901264e+00   5.82730805e+00   1.15311575e+01\n",
      "    3.71907941e+00]\n",
      " [  1.59263098e+01   1.47407588e+01   1.36766857e+01   6.12093528e+00\n",
      "    5.30404191e+00]\n",
      " [  1.43311708e+01   3.62728272e+00   1.03598031e+01   9.17264678e+00\n",
      "    7.17851103e+00]\n",
      " [  1.40907653e+01   6.21151836e+00   3.02018931e+00   6.74545714e+00\n",
      "    5.30404191e+00]\n",
      " [  1.94415002e+01   8.20720032e+00   3.39227467e+00   1.08654949e+01\n",
      "    5.30404191e+00]\n",
      " [  1.66481993e+01   2.07287299e+00   7.07677284e+00   7.40525849e+00\n",
      "    5.30404191e+00]\n",
      " [  1.84680442e+01  -3.36085787e+00   3.29612763e+00   9.77229836e+00\n",
      "   -4.09123481e-01]\n",
      " [  1.74263175e+01   6.75627439e+00   6.44072313e+00   6.72157391e+00\n",
      "    5.30404191e+00]\n",
      " [  1.19812456e+01   7.04181557e+00   6.04458886e+00   1.37526856e+01\n",
      "    6.04100751e+00]\n",
      " [  8.85300526e+00   9.04293558e-01   3.02018931e+00   1.41461670e+01\n",
      "   -5.58905335e-01]\n",
      " [  1.52158474e+01   3.52875662e+00   2.92783493e+00   1.29174237e+01\n",
      "    5.30404191e+00]\n",
      " [ -2.92599221e+00  -6.54235617e-01   8.10119644e+00   1.24170706e+01\n",
      "    5.78598189e-01]\n",
      " [  1.59333437e+01   2.61386345e+00   6.92110441e+00   1.16175723e+01\n",
      "    6.04100751e+00]\n",
      " [  1.68899487e+01   1.09640733e+01   8.29817406e+00   9.71990223e+00\n",
      "    3.71907941e+00]\n",
      " [  1.69053023e+01   2.89446404e+00   3.82064432e+00   8.56654786e+00\n",
      "    1.32381612e+01]\n",
      " [  1.77461172e+01   3.16408849e-01   5.85773097e+00   1.25239423e+01\n",
      "    2.63007441e+00]\n",
      " [  1.78234252e+01   8.01909346e-01   1.36766857e+01   1.25664835e+01\n",
      "    5.30404191e+00]\n",
      " [  1.54474633e+01   6.33901620e+00   6.76765934e+00   1.03053599e+01\n",
      "    4.31632024e+00]\n",
      " [  1.40907653e+01   4.05861159e+00   4.28508406e+00   5.27443271e+00\n",
      "    1.17583902e+00]\n",
      " [  1.85080237e+01   8.43936124e+00   9.52774777e+00   1.30439014e+01\n",
      "    5.90128274e+00]]\n"
     ]
    }
   ],
   "source": [
    "print(x_dat)"
   ]
  },
  {
   "cell_type": "code",
   "execution_count": 71,
   "metadata": {},
   "outputs": [
    {
     "name": "stdout",
     "output_type": "stream",
     "text": [
      "(90,)\n",
      "(90, 5)\n"
     ]
    }
   ],
   "source": [
    "print(y_dat.shape)\n",
    "print(x_dat.shape)"
   ]
  },
  {
   "cell_type": "code",
   "execution_count": 63,
   "metadata": {},
   "outputs": [
    {
     "name": "stdout",
     "output_type": "stream",
     "text": [
      "0.89555880273\n"
     ]
    }
   ],
   "source": [
    "## svr\n",
    "svr.fit(x_dat,y_dat)\n",
    "print(svr.score(x_dat,y_dat))"
   ]
  },
  {
   "cell_type": "code",
   "execution_count": 64,
   "metadata": {},
   "outputs": [
    {
     "name": "stdout",
     "output_type": "stream",
     "text": [
      "0.919380395276\n"
     ]
    },
    {
     "data": {
      "text/plain": [
       "-0.070578653915260192"
      ]
     },
     "execution_count": 64,
     "metadata": {},
     "output_type": "execute_result"
    }
   ],
   "source": [
    "x_train, x_test, y_train, y_test = train_test_split(x_dat, y_dat)\n",
    "svr.fit(x_train,y_train)\n",
    "print(svr.score(x_train,y_train))\n",
    "\n",
    "svr.predict(x_test)\n",
    "svr.score(x_test,y_test)"
   ]
  },
  {
   "cell_type": "code",
   "execution_count": 62,
   "metadata": {
    "scrolled": true
   },
   "outputs": [
    {
     "data": {
      "image/png": "[encoded data removed]",
      "text/plain": [
       "<matplotlib.figure.Figure at 0x1a11f8cd30>"
      ]
     },
     "metadata": {},
     "output_type": "display_data"
    },
    {
     "name": "stdout",
     "output_type": "stream",
     "text": [
      "[-0.00379139]\n",
      "0.00299445607597\n"
     ]
    }
   ],
   "source": [
    "# BioProsp motif1 scores vs. activites\n",
    "x_dat=[[BioProsp_motif1_scores[i]] for i in range(len(BioProsp_motif1_scores))]\n",
    "x_dat=np.array(x_dat)\n",
    "\n",
    "linreg.fit(x_dat,y_dat)\n",
    "plt.scatter(x_dat,y_dat)\n",
    "plt.show()\n",
    "print(linreg.coef_)\n",
    "print(linreg.score(x_dat,y_dat))"
   ]
  },
  {
   "cell_type": "code",
   "execution_count": 63,
   "metadata": {},
   "outputs": [
    {
     "data": {
      "image/png": "[encoded data removed]",
      "text/plain": [
       "<matplotlib.figure.Figure at 0x1a1231d748>"
      ]
     },
     "metadata": {},
     "output_type": "display_data"
    },
    {
     "name": "stdout",
     "output_type": "stream",
     "text": [
      "0.00164422273822\n"
     ]
    }
   ],
   "source": [
    "# promoter lengths vs. activites\n",
    "x_dat=[[promoter_lengths[i]] for i in range(len(promoter_lengths))]\n",
    "x_dat=np.array(x_dat)\n",
    "\n",
    "linreg.fit(x_dat,y_dat)\n",
    "plt.scatter(x_dat,y_dat)\n",
    "plt.show()\n",
    "print(linreg.score(x_dat,y_dat))"
   ]
  },
  {
   "cell_type": "code",
   "execution_count": 101,
   "metadata": {},
   "outputs": [
    {
     "data": {
      "image/png": "[encoded data removed]",
      "text/plain": [
       "<matplotlib.figure.Figure at 0x1a1211d0b8>"
      ]
     },
     "metadata": {},
     "output_type": "display_data"
    },
    {
     "name": "stdout",
     "output_type": "stream",
     "text": [
      "0.00668781126165\n",
      "[-0.00403872]\n"
     ]
    }
   ],
   "source": [
    "x_dat=[[CpG_counts[i]] for i in range(len(CpG_counts))]\n",
    "x_dat=np.array(x_dat)\n",
    "\n",
    "linreg.fit(x_dat,y_dat)\n",
    "plt.scatter(x_dat,y_dat)\n",
    "plt.show()\n",
    "print(linreg.score(x_dat,y_dat))\n",
    "print(linreg.coef_)"
   ]
  },
  {
   "cell_type": "code",
   "execution_count": 65,
   "metadata": {},
   "outputs": [
    {
     "data": {
      "image/png": "[encoded data removed]",
      "text/plain": [
       "<matplotlib.figure.Figure at 0x1a124b8e80>"
      ]
     },
     "metadata": {},
     "output_type": "display_data"
    },
    {
     "name": "stdout",
     "output_type": "stream",
     "text": [
      "[-1.69514283]\n",
      "0.0516651441373\n"
     ]
    }
   ],
   "source": [
    "x_dat=[[GC_max_freqs[i]] for i in range(len(GC_max_freqs))]\n",
    "x_dat=np.array(x_dat)\n",
    "\n",
    "linreg.fit(x_dat,y_dat)\n",
    "plt.scatter(x_dat,y_dat)\n",
    "plt.show()\n",
    "print(linreg.coef_)\n",
    "print(linreg.score(x_dat,y_dat))"
   ]
  },
  {
   "cell_type": "code",
   "execution_count": 66,
   "metadata": {},
   "outputs": [
    {
     "data": {
      "text/plain": [
       "1.6010000000000004"
      ]
     },
     "execution_count": 66,
     "metadata": {},
     "output_type": "execute_result"
    }
   ],
   "source": [
    "np.mean(y_dat)"
   ]
  },
  {
   "cell_type": "code",
   "execution_count": 67,
   "metadata": {},
   "outputs": [
    {
     "data": {
      "text/plain": [
       "array([ 1.79236279,  1.74998422,  1.45333422,  1.52961565,  1.47876137,\n",
       "        1.51266422,  1.81778993,  1.70760565,  1.47876137,  1.46180994,\n",
       "        1.52113994,  1.74150851,  1.58046994,  1.47876137,  1.72455708,\n",
       "        1.68217851,  1.51266422,  1.51266422,  1.82626565,  1.71608136,\n",
       "        1.69912993,  1.4363828 ,  1.44485851,  1.51266422,  1.59742137,\n",
       "        1.48723708,  1.59742137,  1.50418851,  1.50418851,  1.52113994,\n",
       "        1.47876137,  1.45333422,  1.63132422,  1.81778993,  1.45333422,\n",
       "        1.66522708,  1.4363828 ,  1.48723708,  1.67370279,  1.64827565,\n",
       "        1.62284851,  1.47028565,  1.74150851,  1.62284851,  1.91102279,\n",
       "        1.73303279,  1.74150851,  1.38552851,  1.74998422,  1.73303279,\n",
       "        1.90254707,  1.58046994,  1.68217851,  1.75845993,  1.72455708,\n",
       "        1.44485851,  1.48723708,  1.52113994,  1.4957128 ,  1.59742137,\n",
       "        1.74998422,  1.82626565,  1.61437279,  1.79236279,  1.47876137,\n",
       "        1.52961565,  1.50418851,  1.47028565,  1.68217851,  1.71608136,\n",
       "        1.47028565,  1.69065422,  1.68217851,  1.87711993,  1.54656708,\n",
       "        1.42790708,  1.53809137,  1.52113994,  1.50418851,  1.77541136,\n",
       "        1.47028565,  1.79236279,  1.57199422,  1.53809137,  1.52113994,\n",
       "        1.4363828 ,  1.56351851,  1.51266422,  1.60589708,  1.44485851])"
      ]
     },
     "execution_count": 67,
     "metadata": {},
     "output_type": "execute_result"
    }
   ],
   "source": [
    "linreg.predict(x_dat)"
   ]
  },
  {
   "cell_type": "code",
   "execution_count": 68,
   "metadata": {},
   "outputs": [
    {
     "name": "stdout",
     "output_type": "stream",
     "text": [
      "0.901420475758\n"
     ]
    },
    {
     "data": {
      "text/plain": [
       "-0.014677246203503859"
      ]
     },
     "execution_count": 68,
     "metadata": {},
     "output_type": "execute_result"
    }
   ],
   "source": [
    "# motif positions vs. activities\n",
    "## svr\n",
    "x_dat=np.array(all_motif_pos)\n",
    "x_train, x_test, y_train, y_test = train_test_split(x_dat, y_dat)\n",
    "svr.fit(x_train,y_train)\n",
    "print(svr.score(x_train,y_train))\n",
    "\n",
    "svr.predict(x_test)\n",
    "svr.score(x_test,y_test)"
   ]
  },
  {
   "cell_type": "code",
   "execution_count": 69,
   "metadata": {},
   "outputs": [
    {
     "name": "stdout",
     "output_type": "stream",
     "text": [
      "[ -4.06450618e-05  -5.23004836e-05   4.19201358e-05   2.01216203e-04\n",
      "   2.12076446e-04]\n",
      "0.0145035817796\n"
     ]
    }
   ],
   "source": [
    "## lin reg\n",
    "x_dat=np.array(all_motif_pos)\n",
    "\n",
    "linreg.fit(x_dat,y_dat)\n",
    "print(linreg.coef_)\n",
    "print(linreg.score(x_dat,y_dat))"
   ]
  },
  {
   "cell_type": "code",
   "execution_count": 70,
   "metadata": {},
   "outputs": [
    {
     "name": "stdout",
     "output_type": "stream",
     "text": [
      "0.0232279393476\n"
     ]
    },
    {
     "data": {
      "text/plain": [
       "-0.025051122635719958"
      ]
     },
     "execution_count": 70,
     "metadata": {},
     "output_type": "execute_result"
    }
   ],
   "source": [
    "x_dat=np.array(all_motif_pos)\n",
    "x_train, x_test, y_train, y_test = train_test_split(x_dat, y_dat)\n",
    "\n",
    "linreg.fit(x_train,y_train)\n",
    "print(linreg.score(x_train,y_train))\n",
    "\n",
    "linreg.predict(x_test)\n",
    "linreg.score(x_test,y_test)"
   ]
  },
  {
   "cell_type": "code",
   "execution_count": 71,
   "metadata": {},
   "outputs": [
    {
     "data": {
      "image/png": "[encoded data removed]",
      "text/plain": [
       "<matplotlib.figure.Figure at 0x1a11f42da0>"
      ]
     },
     "metadata": {},
     "output_type": "display_data"
    }
   ],
   "source": [
    "plt.hist(training_activities)\n",
    "plt.show()"
   ]
  },
  {
   "cell_type": "code",
   "execution_count": 72,
   "metadata": {},
   "outputs": [
    {
     "name": "stdout",
     "output_type": "stream",
     "text": [
      "1.505\n"
     ]
    }
   ],
   "source": [
    "training_act_med=stat.median(training_activities)\n",
    "print(training_act_med)"
   ]
  },
  {
   "cell_type": "code",
   "execution_count": 73,
   "metadata": {
    "collapsed": true
   },
   "outputs": [],
   "source": [
    "seq_act=[]\n",
    "for i in range(0, len(training_activities)):\n",
    "    seq_act.append((training_seqs[i],training_activities[i]))"
   ]
  },
  {
   "cell_type": "code",
   "execution_count": 74,
   "metadata": {
    "collapsed": true
   },
   "outputs": [],
   "source": [
    "# 1=high expression, 0=low expression\n",
    "seq_class=[]\n",
    "for i in range(0,len(seq_act)):\n",
    "    if (seq_act[i][1]>=training_act_med):\n",
    "        seq_class.append((seq_act[i][0],1))\n",
    "    else:\n",
    "        seq_class.append((seq_act[i][0],0))"
   ]
  },
  {
   "cell_type": "code",
   "execution_count": 75,
   "metadata": {
    "collapsed": true
   },
   "outputs": [],
   "source": [
    "x_dat=[]\n",
    "x_dat.append(ScerTF_Rap1_scores)\n",
    "x_dat.append(ScerTF_Abf1_scores)\n",
    "x_dat.append(ScerTF_Fhl1_scores)\n",
    "x_dat.append(ScerTF_Sfp1_scores)\n",
    "x_dat.append(ScerTF_Reb1_scores)\n",
    "x_dat.append(GC_max_freqs)\n",
    "x_dat=np.array(x_dat)\n",
    "x_dat=x_dat.T\n",
    "\n",
    "y_dat=[seq_class[i][1] for i in range(0,len(seq_class))]\n"
   ]
  },
  {
   "cell_type": "code",
   "execution_count": 73,
   "metadata": {},
   "outputs": [
    {
     "data": {
      "text/plain": [
       "array([ 2.84,  1.59,  0.92,  1.2 ,  1.66,  1.62,  1.39,  2.56,  0.23,\n",
       "        1.5 ,  1.73,  1.9 ,  1.24,  1.42,  0.96,  0.99,  1.53,  1.63,\n",
       "        1.76,  1.36,  0.87,  1.67,  2.3 ,  1.75,  1.31,  1.11,  3.56,\n",
       "        1.89,  1.69,  1.73,  1.61,  1.28,  1.28,  0.98,  1.58,  1.83,\n",
       "        2.04,  1.2 ,  1.51,  1.04,  2.1 ,  1.6 ,  1.45,  1.59,  2.55,\n",
       "        0.76,  1.95,  1.35,  1.8 ,  2.89,  3.32,  1.48,  2.58,  1.25,\n",
       "        1.76,  1.58,  1.13,  1.37,  1.32,  1.19,  1.37,  2.34,  1.45,\n",
       "        3.09,  1.58,  1.52,  1.33,  1.48,  1.12,  1.55,  1.26,  1.31,\n",
       "        2.09,  1.01,  1.68,  1.45,  1.7 ,  1.64,  0.97,  1.16,  1.5 ,\n",
       "        1.45,  2.28,  1.75,  1.15,  0.94,  1.12,  1.28,  1.06,  3.18])"
      ]
     },
     "execution_count": 73,
     "metadata": {},
     "output_type": "execute_result"
    }
   ],
   "source": [
    "y_dat"
   ]
  },
  {
   "cell_type": "code",
   "execution_count": 76,
   "metadata": {},
   "outputs": [
    {
     "data": {
      "text/plain": [
       "0.6333333333333333"
      ]
     },
     "execution_count": 76,
     "metadata": {},
     "output_type": "execute_result"
    }
   ],
   "source": [
    "logreg= linear_model.LogisticRegression()\n",
    "logreg.fit(x_dat,y_dat)\n",
    "logreg.coef_\n",
    "logreg.score(x_dat,y_dat)"
   ]
  },
  {
   "cell_type": "code",
   "execution_count": 77,
   "metadata": {},
   "outputs": [
    {
     "data": {
      "text/plain": [
       "0.5"
      ]
     },
     "execution_count": 77,
     "metadata": {},
     "output_type": "execute_result"
    }
   ],
   "source": [
    "sum(y_dat)/len(y_dat)"
   ]
  },
  {
   "cell_type": "code",
   "execution_count": 78,
   "metadata": {},
   "outputs": [
    {
     "data": {
      "text/plain": [
       "1.0"
      ]
     },
     "execution_count": 78,
     "metadata": {},
     "output_type": "execute_result"
    }
   ],
   "source": [
    "from sklearn.svm import SVC\n",
    "\n",
    "svclf = SVC(kernel=\"rbf\")\n",
    "svclf.fit(x_dat,y_dat)\n",
    "svclf.score(x_dat,y_dat)"
   ]
  },
  {
   "cell_type": "code",
   "execution_count": 79,
   "metadata": {},
   "outputs": [
    {
     "name": "stderr",
     "output_type": "stream",
     "text": [
      "/anaconda3/lib/python3.6/site-packages/sklearn/utils/deprecation.py:122: FutureWarning: You are accessing a training score ('train_score'), which will not be available by default any more in 0.21. If you need training scores, please set return_train_score=True\n",
      "  warnings.warn(*warn_args, **warn_kwargs)\n"
     ]
    },
    {
     "data": {
      "text/plain": [
       "{'fit_time': array([ 0.00059295,  0.00055099,  0.000494  ,  0.00086188,  0.00093174]),\n",
       " 'score_time': array([ 0.00026798,  0.00024199,  0.00023389,  0.00163031,  0.00044513]),\n",
       " 'test_score': array([ 0.72222222,  0.55555556,  0.5       ,  0.44444444,  0.55555556]),\n",
       " 'train_score': array([ 1.,  1.,  1.,  1.,  1.])}"
      ]
     },
     "execution_count": 79,
     "metadata": {},
     "output_type": "execute_result"
    }
   ],
   "source": [
    "from sklearn.model_selection import cross_validate\n",
    "svclf = SVC(kernel=\"rbf\")\n",
    "\n",
    "cross_validate(svclf,x_dat,y_dat,cv=5)\n"
   ]
  },
  {
   "cell_type": "code",
   "execution_count": 80,
   "metadata": {},
   "outputs": [
    {
     "name": "stderr",
     "output_type": "stream",
     "text": [
      "/anaconda3/lib/python3.6/site-packages/sklearn/utils/deprecation.py:122: FutureWarning: You are accessing a training score ('train_score'), which will not be available by default any more in 0.21. If you need training scores, please set return_train_score=True\n",
      "  warnings.warn(*warn_args, **warn_kwargs)\n"
     ]
    },
    {
     "data": {
      "text/plain": [
       "{'fit_time': array([ 0.00178981,  0.00037694,  0.00039124,  0.00029588,  0.00028992]),\n",
       " 'score_time': array([ 0.00068212,  0.00082898,  0.00054979,  0.00048995,  0.00050092]),\n",
       " 'test_score': array([ 0.55555556,  0.61111111,  0.5       ,  0.38888889,  0.61111111]),\n",
       " 'train_score': array([ 0.79166667,  0.72222222,  0.72222222,  0.73611111,  0.70833333])}"
      ]
     },
     "execution_count": 80,
     "metadata": {},
     "output_type": "execute_result"
    }
   ],
   "source": [
    "from sklearn.neighbors import KNeighborsClassifier\n",
    "from sklearn.model_selection import train_test_split\n",
    "x_train, x_test, y_train, y_test = train_test_split(x_dat, y_dat)\n",
    "\n",
    "knn=KNeighborsClassifier()\n",
    "cross_validate(knn,x_dat,y_dat,cv=5)"
   ]
  },
  {
   "cell_type": "code",
   "execution_count": 81,
   "metadata": {},
   "outputs": [
    {
     "data": {
      "text/plain": [
       "0.43478260869565216"
      ]
     },
     "execution_count": 81,
     "metadata": {},
     "output_type": "execute_result"
    }
   ],
   "source": [
    "knn.fit(x_train,y_train)\n",
    "knn.score(x_test,y_test)"
   ]
  },
  {
   "cell_type": "code",
   "execution_count": 82,
   "metadata": {
    "collapsed": true
   },
   "outputs": [],
   "source": [
    "from sklearn.decomposition import PCA\n",
    "\n",
    "pc2 = PCA(3)\n",
    "pc_test = x_dat.copy()"
   ]
  },
  {
   "cell_type": "code",
   "execution_count": 83,
   "metadata": {
    "collapsed": true
   },
   "outputs": [],
   "source": [
    "pc_test = pc2.fit_transform(pc_test)"
   ]
  },
  {
   "cell_type": "code",
   "execution_count": 84,
   "metadata": {},
   "outputs": [
    {
     "data": {
      "image/png": "[encoded data removed]",
      "text/plain": [
       "<matplotlib.figure.Figure at 0x1a12653ba8>"
      ]
     },
     "metadata": {},
     "output_type": "display_data"
    }
   ],
   "source": [
    "cols = [\"red\",\"blue\"]\n",
    "for i in range(len(pc_test)):\n",
    "    plt.plot(pc_test[i][1],pc_test[i][2],\".\", color = cols[y_dat[i]])\n",
    "plt.show()"
   ]
  },
  {
   "cell_type": "code",
   "execution_count": 85,
   "metadata": {},
   "outputs": [
    {
     "data": {
      "text/plain": [
       "6.3437502802507586"
      ]
     },
     "execution_count": 85,
     "metadata": {},
     "output_type": "execute_result"
    }
   ],
   "source": [
    "pc_test[0][1]"
   ]
  },
  {
   "cell_type": "code",
   "execution_count": 123,
   "metadata": {
    "scrolled": true
   },
   "outputs": [
    {
     "name": "stdout",
     "output_type": "stream",
     "text": [
      "[2.84, 1.59, 0.92, 1.2, 1.66, 1.62, 1.39, 2.56, 0.23, 1.5, 1.73, 1.9, 1.24, 1.42, 0.96, 0.99, 1.53, 1.63, 1.76, 1.36, 0.87, 1.67, 2.3, 1.75, 1.31, 1.11, 3.56, 1.89, 1.69, 1.73, 1.61, 1.28, 1.28, 0.98, 1.58, 1.83, 2.04, 1.2, 1.51, 1.04, 2.1, 1.6, 1.45, 1.59, 2.55, 0.76, 1.95, 1.35, 1.8, 2.89, 3.32, 1.48, 2.58, 1.25, 1.76, 1.58, 1.13, 1.37, 1.32, 1.19, 1.37, 2.34, 1.45, 3.09, 1.58, 1.52, 1.33, 1.48, 1.12, 1.55, 1.26, 1.31, 2.09, 1.01, 1.68, 1.45, 1.7, 1.64, 0.97, 1.16, 1.5, 1.45, 2.28, 1.75, 1.15, 0.94, 1.12, 1.28, 1.06, 3.18]\n"
     ]
    }
   ],
   "source": [
    "print(y_dat.tolist())"
   ]
  },
  {
   "cell_type": "code",
   "execution_count": 127,
   "metadata": {
    "collapsed": true
   },
   "outputs": [],
   "source": [
    "# giant feature-output matrix\n",
    "# include BioProsp/MEME EPD motif scores?\n",
    "\n",
    "features = []\n",
    "features.append(ScerTF_Rap1_scores)\n",
    "features.append(ScerTF_Abf1_scores)\n",
    "features.append(ScerTF_Fhl1_scores)\n",
    "features.append(ScerTF_Sfp1_scores)\n",
    "features.append(BioProsp_motif1_scores)\n",
    "features.append(BioProsp_motif2_scores)\n",
    "features.append(BioProsp_motif3_scores)\n",
    "features.append(BioProsp_motif4_scores)\n",
    "features.append(BioProsp_motif5_scores)\n",
    "features.append(MEME_motif1_scores)\n",
    "features.append(MEME_motif2_scores)\n",
    "features.append(MEME_motif3_scores)\n",
    "features.append(MEME_motif4_scores)\n",
    "features.append(MEME_motif5_scores)\n",
    "features.append(CpG_counts)\n",
    "features.append(obs2exp_max)\n",
    "features.append(GC_max_freqs)\n",
    "features.append(GC_content)\n",
    "features.append(free_energies)\n",
    "y_dat_feat=y_dat.tolist()\n",
    "features.append(y_dat_feat)\n",
    "\n",
    "features=np.array(features)\n",
    "features=features.T\n",
    "features=features.tolist()\n",
    "\n",
    "\n"
   ]
  },
  {
   "cell_type": "code",
   "execution_count": 128,
   "metadata": {
    "collapsed": true
   },
   "outputs": [],
   "source": [
    "with open('features.csv', 'w') as csvFile:\n",
    "    writer = csv.writer(csvFile)\n",
    "    writer.writerows(features)\n",
    "\n",
    "csvFile.close()"
   ]
  },
  {
   "cell_type": "code",
   "execution_count": 111,
   "metadata": {},
   "outputs": [
    {
     "name": "stdout",
     "output_type": "stream",
     "text": [
      "[[15.249293832662687, 14.397246514264403, 15.211218743153497, 13.568291397656198, 18.052598342876955, 19.238232785307154, 8.535270076232159, 8.340028907867442, 4.529169976364209, 14.978181956102006, 17.746117173170642, 4.389271839678113, 7.659754021324517, 11.207148957576264, -1.2886898412509602, 15.315369507209995, 16.441489625012743, 16.03367752092645, 18.523377240079924, 17.690784097423148, 13.669557196354877, 17.313676627630354, 0.5578721703545497, 16.613724632605457, 13.554474474561118, 16.03367752092645, 2.704419823207413, 0.9250791829168854, 14.084492921795654, 15.485776109398449, 10.35581204814868, 6.959504406278299, 14.237998170452542, 18.893413263938164, 16.951800513872044, 14.047269561494625, -0.8060355638977263, 17.746117173170642, 11.324220215179837, 15.501761320361624, 19.379095711343467, 20.588796323793037, 12.4726903565876, 16.772286396063222, -0.8782147738511377, 5.426575601919943, 15.835956854881909, 15.215847411535503, 16.22368831152341, 14.09076534455809, 15.447463286909974, 14.434194172236353, 14.725536295748192, 1.363032474709609, 18.664240166116237, 10.428889902251884, 16.543488006655625, 13.42202373895194, 12.263511400195378, 12.393088888790745, 16.12804218520015, 13.083936202368964, 13.183874748949572, 13.175830387870992, 18.052598342876955, 16.66068924227482, 17.746117173170642, 18.523377240079924, 16.111047461115334, 12.994740624812438, 19.009059687485227, 15.926309784372863, 14.331170839717094, 14.09076534455809, 19.441500233025515, 16.648199295038577, 18.468044164332426, 17.426317478038428, 11.981245582434553, 8.853005262602483, 15.215847411535503, -2.9259922126691613, 15.933343749811343, 16.889948712117018, 16.905302252109433, 17.746117173170642, 17.823425245055027, 15.447463286909974, 14.09076534455809, 18.508023700087506], [-3.6052717103453134, 5.11779570781902, 2.8481878415752533, 4.430104821349616, 10.425318796090327, 8.371318397003588, 2.303594767489269, 4.116992999408723, 11.517354899317997, 6.281591437074852, 3.298546123672832, 3.5818404738459684, 1.829064073441689, -0.7430565906395223, 2.030764102187142, 4.457243150286885, 6.30980505836283, 2.483645523532406, -3.073580289356393, -0.3316217135460633, 3.7007130246273974, -1.899384839953214, 1.0224895324951433, 10.399684844539404, 7.000546556935795, 5.306019403080509, 15.391479066395096, 7.792117391292205, 0.18412272201713975, 2.1145152714642066, -1.8323173562586987, 5.167934562081182, 7.209614693950087, -0.7704366971413137, -2.2061990454666116, 0.8519557255512105, -0.735949505637091, -2.5024464175881818, 3.6394622166632082, -1.4045019219105228, 2.5716440935863645, -1.072453052383878, 4.667124955487456, 8.150731336424634, 14.958819074171469, 13.847039633468402, -2.6359915672664798, 14.96524056629454, 4.163651371101942, 6.553477733645288, 2.73833217187617, 13.566572980909267, -1.7631196859472773, 10.321612345034293, 4.330742842147799, 3.341087852958065, 3.183056158533919, 3.865249948326273, 3.5762257001496778, 3.6508820733234373, 1.8296076843629443, 1.889626634624257, 4.0361171712376205, -0.5137163713258417, 3.258134726568393, -0.9168763169288567, 1.7813146249476226, 3.3658716238156856, 1.5998827168792786, 0.37838100287397225, 6.119012641755905, 14.740758835844423, 3.627282715255099, 6.211518361729574, 8.207200324974355, 2.072872993025605, -3.3608578653660928, 6.756274390515937, 7.041815566813135, 0.9042935575771409, 3.5287566164690176, -0.6542356171257637, 2.6138634498917206, 10.964073274578556, 2.894464039795963, 0.3164088492094592, 0.8019093460519287, 6.339016198576008, 4.058611587126318, 8.439361239388113], [3.02018931358994, 3.759890291015049, 4.080943344669036, 4.285084061449259, 8.388423811141944, 5.961890673025271, 5.067995894586662, 13.676685684143433, 5.485645618854612, 4.066443774973921, 4.43863927450705, 8.511112456477141, 7.184832587813759, 3.0201893135899383, 6.388371869861281, 13.212245944788318, 4.921848276427474, 8.139078992648143, 6.92110441180988, 4.005689743894825, 3.5412500045397106, 5.294575510426556, 12.04663529389374, 12.04663529389374, 3.6020040356188066, 7.833734321534589, 12.04663529389374, 7.184832587813759, 4.938431700201283, 5.446722451706611, 3.02018931358994, 2.3951023863805236, 9.139078992648143, 2.6165036053139215, 12.04663529389374, 7.184832587813759, 9.15566241642195, 4.224330030370163, 8.995015228567649, 4.826614282205073, 5.004622455725688, 3.376333123815213, 7.115696009104306, 5.0430367434305925, 12.04663529389374, 13.212245944788318, 5.43863927450705, 7.076772841956306, 7.487781363198604, 5.291054021560187, 13.676685684143433, 6.3032196048358085, 4.867950036872502, 8.101196439409192, 9.620102155777065, 4.703925636869874, 2.633536308978478, 4.331840282775577, 7.137526873035402, 4.113749489752276, 4.16371752396725, 7.137526873035402, 9.620102155777065, 5.480867509896349, 4.63996257813791, 4.133294603393496, 8.319836725884532, 7.076772841956306, 6.3032196048358085, 4.005689743894823, 5.827308052375157, 13.676685684143433, 10.359803133202178, 3.0201893135899383, 3.3922746676842355, 7.076772841956306, 3.296127630039301, 6.440723128585743, 6.044588863043334, 3.02018931358994, 2.927834928329121, 8.101196439409192, 6.92110441180988, 8.298174060889703, 3.820644322094145, 5.857730972948909, 13.676685684143433, 6.767659344190923, 4.285084061449259, 9.527747770516248], [17.65035569323206, 13.45573645700236, 12.062255101089962, 9.445118987479148, 11.515039363202591, 17.539608627724522, 9.50393727937497, 12.40171957008442, 10.18542512586888, 12.513318140153702, 11.427969808223583, 13.244603061803653, 15.522600146033689, 14.802295813239777, 12.724499169533525, 10.468159416273739, 11.515039363202591, 10.18489713404746, 15.598911533924753, 11.224090938529963, 7.567315203839026, 13.365829484649222, 10.320356311357976, 10.265283993030138, 6.713120425917186, 6.86969490234841, 17.539608627724522, 11.555869654427864, 9.66708048066759, 12.417070644341278, 13.33299765981491, 5.969922029617976, 9.256048611214817, 6.9433558981427765, 4.5853648787188135, 9.094178822558204, 8.494994602102265, 8.700697466645806, 10.615097333663256, 10.524375742475195, 8.425570591101167, 8.228227953621914, 14.06344978613984, 9.754856469204373, 17.535754486091534, 15.320291970740575, 11.20444553042544, 10.807110032880054, 9.96893218735555, 7.971254826853038, 8.807612464221005, 7.284580913434169, 14.067303927772826, 12.09472282146167, 12.050295446081995, 11.099347060762213, 13.536720678164668, 8.551284588477186, 10.617572294442361, 10.673862280817282, 11.305327775266084, 15.996247031470139, 11.256544975937164, 11.624930077658206, 12.468159416273739, 10.094178822558204, 15.522600146033689, 8.074630426180224, 9.610790494292669, 7.65603510748819, 11.531157542624888, 6.120935280800598, 9.172646779222656, 6.7454571361661735, 10.865494913819125, 7.40525848976819, 9.77229836185196, 6.721573909075261, 13.752685624856579, 14.146166980768976, 12.91742368743084, 12.417070644341278, 11.617572294442361, 9.719902226066878, 8.566547863127301, 12.523942331518443, 12.566483522509898, 10.305359851938027, 5.27443271194371, 13.04390138976186], [18.956730178314054, 17.23158186158386, 13.710688277101365, 16.59427550227126, 19.798377462001326, 19.512032202323013, 12.060191398632156, 5.355234759784864, -3.370673112118709, 14.55921915703785, 21.503847865976475, 6.425784636520046, 3.5621283740208547, 7.406254623341699, -2.4776655299133594, 18.761838489133616, 13.869877138378193, 20.396881505602412, 21.73074298306291, 21.703030235209688, 13.406896045006444, 20.760792817871234, -4.638151330996955, 16.299569851237187, 13.461927174518205, 20.396881505602412, 3.322532386299134, -5.533928761569989, 12.494429122384691, 16.376188507750687, 6.048035192459572, -8.05628324591013, 17.60394625493121, 22.11913481308833, 15.644703315315144, 17.94524984449292, -5.315096755320553, 20.425752129041612, 10.978608227002265, 19.067959573685105, 17.569355751528228, 20.707248141043145, 17.97391900572626, 16.828063827662795, -10.052437529886099, 6.774087554538394, 6.847349223780274, 11.423483639188955, 17.09670523493412, 20.521571473899694, 17.970480248896102, 18.57548383605885, 18.99628041081468, -7.330173747530168, 19.49577131198112, 3.320320745504226, 20.14228911126543, 14.898799247353654, 4.411126831989581, 15.036735739280497, 18.214791930552927, 16.896968259907045, 19.847583460231363, 10.713842393126463, 19.66573590189887, 19.53942652933071, 20.425752129041612, 23.182620631301138, 16.995656889189814, 15.752396460378042, 18.403451968993643, 11.716021361187991, 19.956446935937393, 21.4670256507321, 21.237449696845392, 16.084110582936404, 21.929925352296124, 17.951840518239344, 18.486024705520315, 14.467351456864623, 12.875361287427182, -11.972121159731437, 18.809244835082126, 13.528830246998123, 20.195937457701113, 18.816101069924546, 20.141674876910184, 16.66177358412937, 19.882506442391417, 17.738001468088974], [19.036924989010586, 17.338363215234004, 13.443998472793979, 16.861348569097487, 19.76065724939099, 19.511714417022937, 12.6609465054608, 4.972995433746853, -3.5609913564896587, 14.227540544260954, 21.290113904992534, 6.667905090580909, 3.747370597289347, 15.190722481351061, -2.4701593523858563, 18.891365974557615, 13.840904043112172, 20.326815686219714, 21.599655938733356, 21.80406531276687, 13.479513241377248, 20.646960684293347, -4.3177829278080395, 16.678305100172388, 13.279770093688644, 20.326815686219714, 3.248963299179106, -5.531393905192743, 12.2500106155546, 16.661759717817276, 6.076017130325649, -7.846768738902092, 17.766430560762075, 22.087277600538293, 15.52077161759794, 17.735908511949994, -4.990400355503745, 20.321785136231956, 10.148004519329877, 18.98536198954489, 17.58565412001623, 20.739541628285156, 17.836797868606205, 17.004032549194907, -10.18852548022204, 6.680026751975596, 14.493463115745572, 11.080341794324546, 17.276896199564046, 20.472960253494335, 18.152308563699396, 18.475184918608846, 18.91320054488134, -7.565523646370956, 19.712068272312386, 3.431901978523051, 20.05932780842221, 14.809129128880741, 8.839843341431926, 15.124554768609489, 18.121054477322033, 16.9310654921219, 19.876284339497108, 10.757315776627138, 19.73990228942931, 19.592245008015297, 20.321785136231956, 23.184041361430467, 16.662080508345333, 15.687177398316315, 18.35165090324131, 11.741499097432644, 20.036636421144657, 21.420534062293235, 21.236756120497493, 15.86887100022128, 22.113607346507695, 17.87087068223616, 18.645498242926784, 14.638818786072692, 12.664727217021653, -12.043491040681737, 18.593624135829913, 13.399758558716591, 20.237116781641646, 18.94350359789279, 20.184979158306472, 16.8269630550562, 19.815393679634447, 17.600301583535426], [-1.2451210608042622, -5.485259687738051, 18.314703628714547, 19.681232666133376, 19.778250679061674, -3.9813578553825266, -11.761998505893835, 20.0256948995572, 6.6962441696924415, -10.313248525886387, -6.1695596400753345, 18.475620816845172, -0.5917300513210115, -8.850644137727947, 11.57462755638279, 16.811745937038957, 5.296801022045017, 2.7808807903703503, -1.9218374985610858, -0.15346544252523842, -7.435398294755565, 2.5160145461053, 22.03250915859445, -0.8406271205721758, -5.463711667395401, -11.068872523535866, -9.602485375149683, 19.97736961617495, -9.1124855677213, 1.7519953497955214, 5.600443048511, 4.514265538599158, -10.605702169357066, -5.296140871009072, 2.3378987279691366, 1.977442871513162, 11.697208743750142, 9.395825895074822, -6.0594639203413365, -14.531356048264946, -1.7267579453902044, -6.487426124504658, -4.498146204656344, 2.562462641960714, -19.57422929889892, -4.814712435656013, -9.531396824305943, 17.31910648481995, 2.596519238347611, -8.542630636913017, -6.75380672269759, 1.991194842510847, -1.8367152762850907, -8.6602274584219, -8.165296541015707, 1.8012018627036461, -1.276024967880197, 6.699228296829965, -5.781692049811461, 0.9727774665712445, -8.601101602394593, -2.5752520972818544, 1.2075631177001078, -12.240346253633462, 19.988263317275077, 16.886276073160417, 8.361481919114965, -9.836188616537505, -0.11631526425678373, -4.710042048826928, -7.361795703267951, 6.04413905142869, 3.710669686248533, -9.828126117547939, 1.2126133939394101, -5.637493601804927, -8.254674374534552, 0.7422687946581483, -3.383233755378882, -4.812875216639071, -1.6416542056112924, -2.446498168850134, -3.0867991669810095, -3.181421949683042, -4.684876786305942, 0.9253634297563842, 3.292245320253773, -2.8926237497132377, -5.967713936183408, 1.3849840516482423], [-8.662399148239437, -11.145356636303084, 18.07755871721878, 19.511623011642925, 19.643327313171977, -8.077247532699019, -18.460867937500794, 19.884037911937487, 7.421624985079777, -12.721519208175003, -5.78620084245842, 18.639191628116635, -0.3691645381430533, -8.320293142002953, 12.13015918584415, 16.776725888984906, -2.2763365288104893, -4.488565928319737, -1.3186469344775773, -0.1447834417708158, -7.570416556870882, 3.114918132272482, 21.740264187106007, -5.213574618399626, -6.255934061864629, -11.01085463410594, -8.623446629681936, 19.73242415370595, -8.757388345161864, 1.909333735041681, 6.211845604107609, 4.993733154871634, -9.945348416749951, -4.305959766044069, 1.5015079646392948, -4.9774964416555605, 12.420312645846657, 9.427667374892064, -6.019143311112813, -17.575979211598593, -1.342754278798882, -5.929884398354908, -3.631581701411939, 2.4474106280300703, -19.80221708927771, -4.144275307049639, -14.07002771411134, 17.09945382901413, -4.649732870790338, -7.15102650332237, -5.8914287117359265, 2.1836415513769083, -1.900656996224658, -7.9786982512464135, -7.111177004454731, 1.9720895135276955, -0.3716235167148909, 6.867490122463163, -8.014239167263554, 1.6597109405311983, -8.27907232375636, -2.1976783952597074, -6.189977496610837, -12.354404156007206, 19.849997474501805, 17.00116972884474, 8.285903075886676, -9.175103277520506, 0.9130373195215569, -4.155176621492409, -6.812539514133931, 5.963150016813579, 4.349384151926511, -9.043361978619487, -6.599207969784189, -4.9094402073235415, -6.82567934882222, 1.0753770171185089, -11.024338327669803, -4.517268911051659, -1.459248402144663, -2.40653478768742, -2.220083036497975, -2.952418758622173, -4.613470525346983, 1.6306765424963992, 3.2699048712621845, -1.8178772747601286, -5.920945280921202, 1.84455817105912], [18.593870219308894, 17.470290556173012, 15.128932912873399, 18.36888426583148, 18.199309333459155, 20.177644961863905, 11.952851651113818, 5.411600706833717, -3.745152436239337, 14.638138497678462, 21.903511980031077, 6.14473099568114, 2.2371647043552763, 14.728837997374615, -4.285389019395431, 18.799763088678503, 15.596999022704402, 20.14356099825725, 23.16158144349262, 20.866720432558083, 13.536485585999781, 20.929716326541914, -2.5661120766356404, 17.982120709457888, 14.951721455589865, 20.14356099825725, 5.186472971875837, -3.8932687328667157, 14.994276859837194, 17.82375641326246, 15.820323072362573, -0.9398930297073242, 15.61377598408159, 22.96746222919474, 17.203319886056697, 17.613958861831225, 2.050586643948307, 21.56544514760804, 11.87803226795883, 18.20578154914797, 15.142188258220916, 21.230838233808797, 18.22236192085102, 17.73472375981511, -0.030088258394428635, 5.91325109516935, 15.30356141954081, 12.52254914021514, 17.706391881323007, 21.24935515639077, 18.406691859571875, 17.55911672857942, 19.09742202521005, -7.701034197848081, 20.558624990752598, 3.1800887593854696, 21.626786346647872, 15.161284793728484, 8.361973491369362, 17.379133472746133, 20.700534907744775, 16.99564886792787, 18.362530433316223, 12.502552822591205, 16.949234419409393, 10.114091717719308, 20.65343706598131, 23.16158144349262, 19.740982611531983, 14.691964713234361, 19.193092331155967, 14.975693975432453, 16.427251558822512, 21.24935515639077, 22.32897098032162, 16.634681686796142, 21.212781814392898, 19.615793180146454, 18.085804799933022, 15.269564980616233, 13.434557221841867, -9.394035614182421, 18.706610086798126, 14.259713217375698, 21.046596289579593, 19.795881331001517, 20.213985826408596, 16.319470817541223, 19.99928024234101, 15.145033064237865], [21.78569121986657, 24.863712624602947, 20.643846247531886, 19.94424377397042, 20.885359130933494, 21.31643305387149, 19.48130470450033, 22.403858169859202, 21.927188367604906, 22.69792844016524, 22.277300641217604, 18.21193611267872, 22.93720263071279, 24.974681592082614, 21.957138184080172, 19.188849678545914, 20.709867510694874, 22.195297294016086, 23.386328799660774, 22.64768497226988, 22.297998939678717, 21.513148435613154, 21.567747634233953, 24.45897087749423, 21.18360436583119, 19.922908293707465, 25.16088518242865, 24.651785683302787, 22.622745680462376, 21.952321493330135, 19.99938087376804, 20.650464458733655, 22.334577085502254, 23.38232968235868, 20.600354561487116, 22.832176402827113, 21.02638639073797, 22.27008339380941, 19.213524387982833, 20.08675417049682, 21.692649168108268, 23.84567267907058, 22.04469380720152, 20.76449851631012, 19.291923450513607, 22.4983483556738, 20.906066787911488, 23.8194237446134, 22.110673953999623, 20.79048220470507, 22.776594439899732, 21.633091783914494, 21.93239387156713, 19.388265689039756, 20.35130122266138, 21.83226925706034, 22.060398774215916, 21.417137272675827, 21.030313665976713, 23.29792048640511, 23.43440693635412, 22.806617828408857, 24.045406522312952, 20.153070401988124, 21.206251517116947, 22.562870260108063, 25.745846052277365, 23.386328799660774, 21.885666991651167, 22.550797932708697, 21.61939622181617, 24.60988976424622, 23.478174571107942, 20.79048220470507, 22.661965688583557, 20.95708393989947, 21.181379034474467, 22.84874993558845, 24.326674796071963, 19.03578052034087, 22.26977452000991, 22.17307995957035, 23.159094689791136, 22.46204102414055, 24.64794235697517, 20.674812273168534, 24.136688137130854, 23.118021084854398, 22.990948977357085, 22.319059673909354], [22.78834809243481, 24.159912587271542, 19.12674246330631, 22.944442564168604, 19.136327233960728, 20.9684820711555, 22.249207179550943, 20.646993222420562, 21.366876930336502, 18.204063997290486, 19.72770733122456, 21.456712330482127, 20.383315212170025, 19.66519627102263, 21.67637893467466, 19.81345695798207, 22.606772894463067, 19.793302000241283, 20.212009273284053, 21.85896596271899, 22.33676574835603, 21.213388012177816, 22.51634798003856, 21.367102250072506, 23.565628754220747, 24.688605159204347, 23.27949412105287, 24.39253508653381, 23.19060785147788, 20.39793829423619, 20.324322626019864, 24.18638399531405, 19.5286951758865, 18.875731400648164, 22.322667179440415, 19.41054570844321, 23.27949412105287, 24.571211376417725, 23.27949412105287, 21.07887823212903, 21.158247985961218, 21.78016751192135, 21.478043449400204, 21.760441356227815, 18.34956115923951, 25.23529194415846, 21.62971073240552, 20.443268085867167, 20.832031799650032, 18.424778429144887, 20.304529933547503, 23.04923228011136, 18.905814769725378, 23.27949412105287, 16.869335135813095, 26.621071537956173, 17.404008002599703, 18.780709367402224, 19.775149822243893, 22.219192102209686, 19.832702697269042, 19.29318029837291, 23.751041860988472, 20.571376703726436, 17.008315943473754, 20.907876558162375, 19.41878859376235, 21.256209093534647, 20.093761718252185, 23.84060940680497, 22.16732747055435, 23.166187407028502, 20.49727838319072, 22.000724519744267, 22.723366615795722, 19.608873182988773, 19.204612222699993, 23.046384403907833, 22.671424654301557, 18.539662209616775, 21.648810491631036, 22.928021145506683, 24.772949651564105, 21.906092435072814, 22.416734009751547, 20.351805300044113, 25.088759605168267, 19.50292655026775, 20.980861344335025, 23.27949412105287], [20.903975294327743, 17.87308180376163, 17.466328746086376, 16.4589489991936, 16.778544601760334, 19.081504665300947, 18.699414737597564, 18.655826659976558, 18.299421426053, 15.310266016775746, 18.226957857719146, 19.818414350581257, 21.196516670859168, 21.449718897985637, 19.980789186315164, 17.90659882179117, 16.5613075600304, 17.9454482543822, 17.411154929542388, 18.002262110477375, 18.31978657456704, 17.50581530640658, 18.25672142731748, 20.800213459112285, 17.738400492876075, 17.785647176505318, 16.242509712977977, 19.9329276450178, 16.624875371424725, 19.453349335561725, 18.40510276553286, 18.639750430942144, 21.005186990478144, 20.70710668763797, 16.924262228140883, 19.589647297567513, 16.41509737483686, 17.351424909174106, 17.349209539243784, 16.544443716836728, 18.160800971476164, 18.853393724261615, 17.39707309799889, 17.314022982880935, 20.426150049200892, 20.313362741128763, 20.987265334952987, 20.536420963740493, 20.53378949255649, 17.31721968147911, 18.91603322008136, 18.687968325510823, 17.621833608442152, 21.3181558471455, 18.313157951860518, 19.394694928156543, 20.148841563906615, 19.425452102587812, 21.452646288777537, 18.354242893058927, 18.03990645075575, 18.45830004628093, 17.89109335162056, 17.177231594518393, 16.96614151053395, 17.82972016287332, 19.501482378931748, 17.398896610311382, 16.931404902175565, 16.885807113099986, 19.073835952318316, 17.924754800002397, 20.996227752258136, 17.618153758335634, 19.602219760482168, 18.033003918600436, 16.488922646679015, 22.07483733776226, 21.811802354850336, 16.59334269211619, 18.95233022806434, 18.191412688112948, 20.996227752258136, 19.377905102202824, 18.56678803869761, 17.283138708293603, 15.739700330954964, 18.57452549693121, 21.27414580160027, 18.754969083081615], [24.214213418763173, 26.045589346252534, 22.27149850042881, 24.6090237999408, 24.0926513435999, 23.072858444088435, 23.83177505936757, 22.76978544114262, 25.15370315425493, 24.497751572235305, 24.468603062534036, 23.623881694590093, 24.860919697841922, 24.87799320412819, 24.611694230315504, 24.684993075050134, 23.818744644392282, 22.872062413631728, 23.781514566269845, 24.318909595700553, 24.177553709327636, 24.05904921123106, 23.80434089522175, 24.007763482126585, 24.474189405958548, 24.055299456068827, 25.02672920488213, 24.804337999453683, 25.024833622128916, 25.851643042824413, 24.207785716927972, 24.955161528440343, 22.86931679534519, 22.56417244223746, 23.38930204942821, 23.29423381772414, 23.67505832911891, 26.905313021532297, 26.15685270223491, 22.27757439737497, 24.219374733666655, 25.115978862131904, 22.832907275181533, 24.951176263793617, 21.570356801827703, 26.348657299769492, 23.775192385520484, 23.600806387097535, 24.492832968003114, 25.492832336824367, 23.719451779045063, 25.951178451881507, 22.360149500172255, 24.083309858955552, 22.755869267370382, 23.941843118360637, 24.38507592421653, 23.65654770253393, 23.4849840897998, 22.44386366779858, 22.693917965546344, 23.611694230315504, 25.541303459732763, 23.200409010911113, 22.089984952768102, 24.94754115757887, 24.140186812599165, 24.363766981226117, 24.055299456068827, 22.44879452264643, 22.967838545483755, 24.338626432453545, 23.08637252115488, 21.634558163391347, 24.909356922599514, 22.616163798493623, 23.483248177212502, 23.50759461751118, 23.289766135428142, 21.581948209391484, 22.837961676214274, 22.746287295846408, 22.86092255918289, 25.57410726174148, 22.247945111089123, 26.045589346252534, 23.979309510269978, 24.50211000172782, 22.68316937511463, 25.560163096160196], [22.50775164057208, 20.410740731006022, 20.97214966566718, 22.429748209802245, 25.737178033420758, 23.839733400123365, 21.814195802282406, 21.26309858454114, 21.91586977263826, 21.66288662327694, 20.517161611688614, 19.55938262460092, 20.865728752925808, 21.332737300236186, 21.510883773980233, 21.903203505071595, 20.988088583830766, 20.780839711069795, 22.77767151322255, 18.72624111403819, 19.91709544565841, 21.951566847231852, 21.00273845727517, 22.740196283876692, 23.90076584764421, 20.616699593552127, 22.84478484346317, 20.85483778677975, 22.17385176963548, 21.336013862634175, 21.07045167548514, 21.56977602033804, 20.53735685095826, 20.920870451387763, 21.82459499765549, 23.55528092299971, 22.638335075762008, 22.50266316729642, 21.0772302081162, 20.64086142671212, 21.44460792155003, 22.403278005884026, 24.00674374451607, 20.70728074263539, 20.036345536823383, 21.226319577947457, 21.844784266385325, 21.14009150094645, 21.45069142997633, 22.396243713772932, 18.5242970959197, 21.85567533241023, 21.444248096890203, 20.661109911220436, 19.498301743117253, 19.465189380646315, 23.27071316461857, 21.065256444353224, 19.84791074945314, 22.3182402830031, 20.733276195316684, 22.0177302594056, 21.380300338790306, 19.95131036640449, 21.93284280451485, 22.21365078997972, 23.415099846872586, 20.521772043394765, 21.607745069084476, 20.480774694262657, 21.03634895490225, 21.354763462296688, 19.80039039117522, 22.65422588709952, 20.97368048774554, 20.321258145041188, 23.29962262945265, 20.143261285758953, 20.105294477506135, 21.914784490379372, 19.86572875292581, 20.176767468632377, 21.607745313232822, 22.140243744319726, 22.158709330826266, 23.089204292478037, 20.766176191777568, 20.01279061142435, 22.472222230061647, 20.35184815171872], [0, 0, 26, 0, 5, 14, 0, 0, 48, 0, 14, 0, 0, 0, 0, 0, 0, 16, 0, 0, 0, 0, 0, 0, 0, 11, 0, 0, 1, 9, 0, 0, 0, 0, 40, 0, 14, 0, 0, 0, 0, 41, 0, 0, 0, 0, 0, 6, 0, 0, 0, 0, 0, 0, 0, 26, 46, 17, 15, 0, 0, 0, 0, 0, 5, 0, 0, 0, 0, 0, 0, 0, 0, 0, 0, 0, 0, 0, 21, 0, 0, 0, 0, 3, 0, 18, 0, 6, 0, 56], [1.2406947890818858, 0.9033423667570009, 0.72, 0.7518796992481203, 1.3852813852813852, 0.8488964346349746, 0.7936507936507936, 0.9852216748768473, 1.5345268542199488, 1.1131725417439704, 0.9302325581395349, 1.1904761904761905, 0.9609609609609611, 0.9216589861751152, 0.9259259259259258, 0.7820136852394917, 1.2121212121212122, 0.8403361344537815, 0.8869179600886918, 1.0416666666666667, 1.005656819610308, 0.7575757575757576, 0.7142857142857143, 0.922874093605801, 0.6993006993006993, 0.9259259259259258, 1.2254901960784315, 1.170731707317073, 0.8454106280193238, 0.9456264775413711, 0.7973421926910299, 0.8503401360544218, 0.9009009009009008, 0.5405405405405406, 0.9230769230769231, 1.4102564102564104, 1.0416666666666667, 1.125703564727955, 1.0025062656641603, 0.7849293563579278, 0.966183574879227, 0.9090909090909091, 1.0, 1.1627906976744187, 1.081081081081081, 1.6161616161616161, 1.0080645161290323, 1.0810810810810811, 1.0727969348659003, 1.111111111111111, 1.3157894736842106, 1.1428571428571428, 1.075268817204301, 1.0989010989010988, 1.129032258064516, 1.4245014245014247, 0.9090909090909091, 0.9142857142857143, 1.3061224489795917, 0.7518796992481203, 1.1904761904761905, 1.3793103448275863, 0.7804878048780488, 0.8333333333333334, 1.3852813852813852, 0.7518796992481203, 1.4141414141414141, 0.8403361344537815, 1.0263929618768328, 1.073345259391771, 0.6006006006006006, 1.0582010582010581, 0.9195402298850576, 1.3368983957219251, 0.8888888888888888, 0.7326007326007326, 0.7092198581560284, 0.8264462809917356, 0.9302325581395349, 0.9259259259259258, 0.6857142857142857, 0.6153846153846154, 1.2170385395537526, 0.9009009009009008, 1.0092514718250631, 0.8348240906380442, 0.8333333333333333, 1.6071428571428572, 1.001001001001001, 2.0], [0.355, 0.38, 0.555, 0.51, 0.54, 0.52, 0.34, 0.405, 0.54, 0.55, 0.515, 0.385, 0.48, 0.54, 0.395, 0.42, 0.52, 0.52, 0.335, 0.4, 0.41, 0.565, 0.56, 0.52, 0.47, 0.535, 0.47, 0.525, 0.525, 0.515, 0.54, 0.555, 0.45, 0.34, 0.555, 0.43, 0.565, 0.535, 0.425, 0.44, 0.455, 0.545, 0.385, 0.455, 0.285, 0.39, 0.385, 0.595, 0.38, 0.39, 0.29, 0.48, 0.42, 0.375, 0.395, 0.56, 0.535, 0.515, 0.53, 0.47, 0.38, 0.335, 0.46, 0.355, 0.54, 0.51, 0.525, 0.545, 0.42, 0.4, 0.545, 0.415, 0.42, 0.305, 0.5, 0.57, 0.505, 0.515, 0.525, 0.365, 0.545, 0.355, 0.485, 0.505, 0.515, 0.565, 0.49, 0.52, 0.465, 0.56], [0.3288888888888889, 0.32153846153846155, 0.4046920821114369, 0.3785488958990536, 0.4047287899860918, 0.3609215017064846, 0.3202614379084967, 0.32697947214076245, 0.42072538860103625, 0.4054441260744986, 0.3689759036144578, 0.36504424778761063, 0.3748894783377542, 0.400355871886121, 0.3287671232876712, 0.36351875808538164, 0.3953871499176277, 0.38509316770186336, 0.27400468384074944, 0.3409090909090909, 0.3484848484848485, 0.4045138888888889, 0.3944636678200692, 0.3817527010804322, 0.37657657657657656, 0.41641337386018235, 0.3879539415411869, 0.3810763888888889, 0.3968253968253968, 0.3722755013077594, 0.4121212121212121, 0.3923076923076923, 0.34300126103404793, 0.3202416918429003, 0.4392523364485981, 0.3629441624365482, 0.3888888888888889, 0.40188383045525905, 0.3694207027540361, 0.39378238341968913, 0.3554119547657512, 0.37002652519893897, 0.3597560975609756, 0.3633217993079585, 0.27230046948356806, 0.32663316582914576, 0.33067729083665337, 0.40229885057471265, 0.3427027027027027, 0.3641025641025641, 0.2714285714285714, 0.3869891576313595, 0.3333333333333333, 0.3235294117647059, 0.35306553911205074, 0.4172461752433936, 0.3627329192546584, 0.4352226720647773, 0.38917089678510997, 0.3617021276595745, 0.3283018867924528, 0.2991202346041056, 0.37043478260869567, 0.3333333333333333, 0.4064245810055866, 0.3785488958990536, 0.3758654797230465, 0.38488576449912126, 0.3396584440227704, 0.3645320197044335, 0.3851239669421488, 0.3670745272525028, 0.34991974317817015, 0.28719723183391005, 0.3779264214046823, 0.4149797570850202, 0.3913978494623656, 0.35408022130013833, 0.39737991266375544, 0.3425925925925926, 0.38267148014440433, 0.3197278911564626, 0.37796610169491524, 0.4294813466787989, 0.40153452685422, 0.393646408839779, 0.36746143057503505, 0.389687235841082, 0.37213403880070545, 0.39814814814814814], [-548.7399999999993, -783.5200000000002, -882.62, -804.0700000000007, -930.8700000000009, -1477.8300000000038, -370.3899999999995, -833.1400000000004, -1282.7300000000034, -907.9700000000013, -838.7999999999997, -564.929999999999, -1444.3500000000038, -721.9100000000002, -442.0399999999993, -969.9700000000015, -783.28, -823.8299999999999, -490.8299999999989, -647.2900000000005, -569.4099999999996, -743.8199999999993, -1115.6300000000015, -1065.520000000001, -704.1799999999998, -865.9100000000012, -1455.9200000000046, -1470.2200000000032, -816.5399999999994, -1453.8800000000022, -862.2800000000018, -1003.210000000002, -975.410000000003, -399.95999999999924, -577.3399999999995, -996.4600000000013, -768.5299999999997, -821.5000000000002, -1324.5900000000013, -493.08999999999895, -771.33, -959.7800000000008, -615.43, -1455.640000000004, -248.63000000000002, -1455.9100000000044, -616.11, -1245.6900000000023, -1140.4900000000023, -491.7399999999989, -406.1599999999994, -1540.8200000000038, -958.630000000001, -616.7799999999991, -590.2199999999996, -945.5500000000013, -1013.3700000000007, -656.65, -757.7800000000002, -586.0999999999992, -647.1999999999994, -403.89999999999935, -1450.6500000000026, -455.579999999999, -927.7300000000012, -804.0700000000005, -1288.0900000000026, -722.7700000000003, -648.7399999999998, -509.4099999999989, -768.7500000000006, -1127.5800000000024, -771.12, -335.9099999999996, -1142.2000000000019, -643.8700000000001, -593.7899999999995, -900.16, -884.2400000000011, -531.4899999999989, -702.7900000000002, -357.4899999999995, -1516.8600000000051, -1464.0700000000015, -1014.2800000000007, -934.6600000000014, -902.2600000000004, -1522.2100000000014, -718.560000000001, -1132.0200000000018]]\n"
     ]
    },
    {
     "data": {
      "text/plain": [
       "90"
      ]
     },
     "execution_count": 111,
     "metadata": {},
     "output_type": "execute_result"
    }
   ],
   "source": [
    "print(features)\n",
    "len(features[0])"
   ]
  },
  {
   "cell_type": "code",
   "execution_count": 156,
   "metadata": {},
   "outputs": [
    {
     "name": "stdout",
     "output_type": "stream",
     "text": [
      "0.090262213964\n"
     ]
    }
   ],
   "source": [
    "from sklearn.model_selection import cross_validate\n",
    "max_scores=[]\n",
    "x_dat=[]\n",
    "x_dat.append(GC_content)\n",
    "x_dat.append(obs2exp_max)\n",
    "x_dat.append(ScerTF_Fhl1_scores)\n",
    "x_dat.append(ScerTF_Sfp1_scores)\n",
    "x_dat=np.array(x_dat)\n",
    "x_dat=x_dat.T\n",
    "\n",
    "y_dat=np.array(training_activities)\n",
    "max_score=max(cross_validate(linreg,x_dat,y_dat,cv=5)['test_score'])\n",
    "print(max_score)\n",
    "max_scores.append(max_score)"
   ]
  },
  {
   "cell_type": "code",
   "execution_count": 157,
   "metadata": {},
   "outputs": [
    {
     "name": "stdout",
     "output_type": "stream",
     "text": [
      "0.21575872139774\n"
     ]
    }
   ],
   "source": [
    "svr=SVR(kernel = \"poly\",degree=2)\n",
    "#scores=cross_validate(svr,x_dat,y_dat,cv=5)['test_score']\n",
    "max_score=max(cross_validate(svr,x_dat,y_dat,cv=5)['test_score'].tolist())\n",
    "print(max_score)\n",
    "max_scores.append(max_score)\n",
    "#cross_validate(svr,x_dat,y_dat,cv=5)"
   ]
  },
  {
   "cell_type": "code",
   "execution_count": 158,
   "metadata": {},
   "outputs": [
    {
     "name": "stdout",
     "output_type": "stream",
     "text": [
      "0.611111111111\n"
     ]
    }
   ],
   "source": [
    "y_dat=[seq_class[i][1] for i in range(0,len(seq_class))]\n",
    "max_score=max(cross_validate(logreg,x_dat,y_dat,cv=5)['test_score'])\n",
    "print(max_score)\n",
    "max_scores.append(max_score)"
   ]
  },
  {
   "cell_type": "code",
   "execution_count": 159,
   "metadata": {},
   "outputs": [
    {
     "name": "stdout",
     "output_type": "stream",
     "text": [
      "0.666666666667\n"
     ]
    }
   ],
   "source": [
    "svclf = SVC(kernel=\"poly\",degree=2)\n",
    "max_score=max(cross_validate(svclf,x_dat,y_dat,cv=5)['test_score'])\n",
    "print(max_score)\n",
    "max_scores.append(max_score)"
   ]
  },
  {
   "cell_type": "code",
   "execution_count": 164,
   "metadata": {},
   "outputs": [
    {
     "name": "stdout",
     "output_type": "stream",
     "text": [
      "[0.090262213964015361, 0.21575872139774, 0.61111111111111116, 0.66666666666666663]\n"
     ]
    },
    {
     "data": {
      "text/plain": [
       "numpy.float64"
      ]
     },
     "execution_count": 164,
     "metadata": {},
     "output_type": "execute_result"
    }
   ],
   "source": [
    "print(max_scores)\n",
    "type(max_scores[0])"
   ]
  },
  {
   "cell_type": "code",
   "execution_count": 167,
   "metadata": {
    "collapsed": true
   },
   "outputs": [],
   "source": [
    "with open('max_scores.csv', 'w') as csvFile:\n",
    "    writer = csv.writer(csvFile)\n",
    "    writer.writerows([max_scores])\n",
    "\n",
    "csvFile.close()"
   ]
  },
  {
   "cell_type": "code",
   "execution_count": null,
   "metadata": {
    "collapsed": true
   },
   "outputs": [],
   "source": []
  }
 ],
 "metadata": {
  "kernelspec": {
   "display_name": "Python 3",
   "language": "python",
   "name": "python3"
  },
  "language_info": {
   "codemirror_mode": {
    "name": "ipython",
    "version": 3
   },
   "file_extension": ".py",
   "mimetype": "text/x-python",
   "name": "python",
   "nbconvert_exporter": "python",
   "pygments_lexer": "ipython3",
   "version": "3.6.7"
  }
 },
 "nbformat": 4,
 "nbformat_minor": 2
}
